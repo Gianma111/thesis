{
 "cells": [
  {
   "cell_type": "code",
   "execution_count": 1,
   "id": "9ae9f565",
   "metadata": {},
   "outputs": [
    {
     "data": {
      "text/plain": [
       "'\\nFile ufficiale dove implemento la parte di opinion dynamics del mio modello, con matrice delle caratteristiche costante e\\nmatrice di adiacenza variabile.\\n'"
      ]
     },
     "execution_count": 1,
     "metadata": {},
     "output_type": "execute_result"
    }
   ],
   "source": [
    "\"\"\"\n",
    "File ufficiale dove implemento la parte di opinion dynamics del mio modello, con matrice delle caratteristiche costante e\n",
    "matrice di adiacenza variabile.\n",
    "\"\"\""
   ]
  },
  {
   "cell_type": "markdown",
   "id": "c911a71c",
   "metadata": {},
   "source": [
    "PARTE 2) DINAMICA DI RETE CON MATRICE DELLE CARATTERISTICHE COSTANTE"
   ]
  },
  {
   "cell_type": "markdown",
   "id": "3e161142",
   "metadata": {},
   "source": [
    "1. IMPORTO LE LIBRERIE NECESSARIE"
   ]
  },
  {
   "cell_type": "code",
   "execution_count": 2,
   "id": "501d0b5d",
   "metadata": {},
   "outputs": [
    {
     "data": {
      "text/plain": [
       "\"\\nImporto nel file le librerie e il file con dentro le funzioni ausiliarie che che ho implementato io per poterle usare all' occorrenza.\\n\""
      ]
     },
     "execution_count": 2,
     "metadata": {},
     "output_type": "execute_result"
    }
   ],
   "source": [
    "\"\"\"\n",
    "Importo nel file le librerie e il file con dentro le funzioni ausiliarie che che ho implementato io per poterle usare all' occorrenza.\n",
    "\"\"\""
   ]
  },
  {
   "cell_type": "code",
   "execution_count": 2,
   "id": "f7acf21f",
   "metadata": {},
   "outputs": [],
   "source": [
    "import networkx as nx\n",
    "import numpy as np\n",
    "from funzioni_utili import* #importo tutte le funzioni implementate e salvate nell' altro file\n",
    "#from funzioni_utili_1 import*\n",
    "import random as random\n",
    "import math"
   ]
  },
  {
   "cell_type": "markdown",
   "id": "cbfd300f",
   "metadata": {},
   "source": [
    "PARTE2_a)INIZIO PROVANDO A LANCIARE IL CASO BASE: BASSE T E BASSE N"
   ]
  },
  {
   "cell_type": "markdown",
   "id": "900b3992",
   "metadata": {},
   "source": [
    "2. DEFINIZIONE PARAMETRI"
   ]
  },
  {
   "cell_type": "code",
   "execution_count": 4,
   "id": "c52988e1",
   "metadata": {},
   "outputs": [
    {
     "data": {
      "text/plain": [
       "'\\nDefinizione delle costanti o valori iniziali delle variabili che verranno utilizzate nel modello.\\n\\n'"
      ]
     },
     "execution_count": 4,
     "metadata": {},
     "output_type": "execute_result"
    }
   ],
   "source": [
    "\"\"\"\n",
    "Definizione delle costanti o valori iniziali delle variabili che verranno utilizzate nel modello.\n",
    "\n",
    "\"\"\""
   ]
  },
  {
   "cell_type": "code",
   "execution_count": 5,
   "id": "5291bac3",
   "metadata": {},
   "outputs": [],
   "source": [
    "N = 2 #numero di nodi\n",
    "T = 2 #numero di topic\n",
    "G =nx.Graph()\n",
    "beta=1\n",
    "n_time=10 #tempi integraione"
   ]
  },
  {
   "cell_type": "markdown",
   "id": "a0ad4274",
   "metadata": {},
   "source": [
    "3. INIZIALIZZAZIONE MATRICI"
   ]
  },
  {
   "cell_type": "code",
   "execution_count": 6,
   "id": "177f6733",
   "metadata": {},
   "outputs": [
    {
     "data": {
      "text/plain": [
       "'\\n\\nLe matrici necessarie per il modello sono:\\n1) la matrice di adiacenza A\\n2) la matrice delle caratteristiche C\\n3) la matrice dei pesi delle caratteristiche W\\n4) la matrice dei coseni phi\\n\\n'"
      ]
     },
     "execution_count": 6,
     "metadata": {},
     "output_type": "execute_result"
    }
   ],
   "source": [
    "\"\"\"\n",
    "\n",
    "Le matrici necessarie per il modello sono:\n",
    "1) la matrice di adiacenza A\n",
    "2) la matrice delle caratteristiche C\n",
    "3) la matrice dei pesi delle caratteristiche W\n",
    "4) la matrice dei coseni phi\n",
    "\n",
    "\"\"\"\n"
   ]
  },
  {
   "cell_type": "code",
   "execution_count": 7,
   "id": "395ffce5",
   "metadata": {},
   "outputs": [],
   "source": [
    "C = np.zeros((n_time,T,N))\n",
    "W = np.zeros((T,N))\n",
    "phi = np.zeros((T,T))\n",
    "A=np.zeros((N,N))"
   ]
  },
  {
   "cell_type": "markdown",
   "id": "73260583",
   "metadata": {},
   "source": [
    "3a)INIZIALIZZAZIONE MATRICE DELLE CARATTERISTICHE"
   ]
  },
  {
   "cell_type": "code",
   "execution_count": 8,
   "id": "37a8dc3c",
   "metadata": {},
   "outputs": [
    {
     "name": "stdout",
     "output_type": "stream",
     "text": [
      "C_0:\n",
      " [[[-0.99911354 -1.70885764]\n",
      "  [ 3.89582725  2.59982492]]\n",
      "\n",
      " [[ 9.07067689  7.09501566]\n",
      "  [ 1.92858456  9.27227418]]\n",
      "\n",
      " [[ 1.31218082 -8.41853225]\n",
      "  [-2.90785723  6.74404406]]\n",
      "\n",
      " [[ 3.02109806  0.36225156]\n",
      "  [ 2.50924877 -1.52008292]]\n",
      "\n",
      " [[-1.07169134  2.57654259]\n",
      "  [ 9.63492588  4.22503406]]\n",
      "\n",
      " [[-2.60244033 -0.06097715]\n",
      "  [-8.9716715   7.6051388 ]]\n",
      "\n",
      " [[-7.27759902  1.15360255]\n",
      "  [-4.2583328  -5.85311182]]\n",
      "\n",
      " [[-8.29413499  5.58729042]\n",
      "  [-0.70161227  3.03550647]]\n",
      "\n",
      " [[-7.53467789 -9.80717616]\n",
      "  [-9.69572078  0.29760373]]\n",
      "\n",
      " [[ 7.97899412 -7.22770409]\n",
      "  [ 1.53926944 -6.77782553]]]\n",
      "C_0[t]:\n",
      " [[ 7.97899412 -7.22770409]\n",
      " [ 1.53926944 -6.77782553]]\n"
     ]
    }
   ],
   "source": [
    "C_0=np.zeros((n_time,T,N))\n",
    "#print(\"matrice caratteristiche:\\n\",C_0)  #prova\n",
    "#print(\"tipo:\\n\",type(C_0))\n",
    "#C_0=np.ones((T,N))                       #prova\n",
    "#print(\"matrice caratteristiche:\\n\",C_0)\n",
    "\n",
    "for t in range(n_time):                #prova\n",
    "    for i in range(T):\n",
    "        for j in range(N):\n",
    "            C_0[t][i][j]= random.uniform(-10,10)\n",
    "\n",
    "print(\"C_0:\\n\",C_0)\n",
    "print(\"C_0[t]:\\n\",C_0[t])"
   ]
  },
  {
   "cell_type": "markdown",
   "id": "e72b61ee",
   "metadata": {},
   "source": [
    "3b)INIZIALIZZAZIONE MATRICE PESI"
   ]
  },
  {
   "cell_type": "code",
   "execution_count": 9,
   "id": "ede578a0",
   "metadata": {},
   "outputs": [
    {
     "name": "stdout",
     "output_type": "stream",
     "text": [
      "matrice dei pesi:\n",
      " [[0.5 0.5]\n",
      " [0.5 0.5]]\n",
      "tipo: <class 'numpy.ndarray'>\n",
      "somma 0 : 1.0\n",
      "somma 1 : 1.0\n",
      "controllo ok\n"
     ]
    }
   ],
   "source": [
    "#ora va inizializzata la matrice dei pesi: la somma degli elementi di ciascuna riga deve fare 1 -> caso base mettiamo tutti i pesi uguale\n",
    "\n",
    "#esempio:\n",
    "W = np.array([[0.5,0.5],[0.5,0.5]]) #ok\n",
    "print(\"matrice dei pesi:\\n\",W)\n",
    "print(\"tipo:\",type(W))\n",
    "controllo_matrice_pesi(W)      #ok"
   ]
  },
  {
   "cell_type": "markdown",
   "id": "70726ed9",
   "metadata": {},
   "source": [
    "3c)INIZIALIZZAZIONE MATRICE COSENI"
   ]
  },
  {
   "cell_type": "code",
   "execution_count": 10,
   "id": "510a56ef",
   "metadata": {},
   "outputs": [
    {
     "name": "stdout",
     "output_type": "stream",
     "text": [
      "phi:\n",
      " [[1 0]\n",
      " [0 1]]\n",
      "dimensioni:\n",
      " 2\n"
     ]
    }
   ],
   "source": [
    "#matrice coseni fissata -> nel caso base è l' identità\n",
    "\n",
    "phi = np.array([[1,0],[0,1]]) \n",
    "\n",
    "\n",
    "print(\"phi:\\n\",phi)\n",
    "print(\"dimensioni:\\n\",phi.shape[0])"
   ]
  },
  {
   "cell_type": "markdown",
   "id": "8071a064",
   "metadata": {},
   "source": [
    "3d)INIZIALIZZAZIONE MATRICE DI ADIACENZA"
   ]
  },
  {
   "cell_type": "code",
   "execution_count": 11,
   "id": "3f7d7a24",
   "metadata": {},
   "outputs": [
    {
     "name": "stdout",
     "output_type": "stream",
     "text": [
      "matrice di adiacenza:\n",
      " [[0 1]\n",
      " [1 0]]\n"
     ]
    }
   ],
   "source": [
    "#inizializzo una matrice di adiacenza dove tutti i nodi sono collegati\n",
    "p=0.8\n",
    "G=nx.erdos_renyi_graph(N,p)\n",
    "#A_0=np.array([[0,1],[1,0]])  #prova\n",
    "A_0=np.zeros((N,N))           #prova\n",
    "A_0 = nx.adjacency_matrix(G).todense()\n",
    "A_t=np.zeros((n_time,N,N)) #evoluzione matrice adiacenza\n",
    "print(\"matrice di adiacenza:\\n\",A_0)"
   ]
  },
  {
   "cell_type": "markdown",
   "id": "1aa0051e",
   "metadata": {},
   "source": [
    "4)CALCOLO MATRICE DI ADIACENZA ADIACENZA A TUTTI I TEMPI"
   ]
  },
  {
   "cell_type": "code",
   "execution_count": 12,
   "id": "5c199998",
   "metadata": {},
   "outputs": [
    {
     "name": "stdout",
     "output_type": "stream",
     "text": [
      "(1,)\n",
      "(1,)\n"
     ]
    },
    {
     "ename": "ValueError",
     "evalue": "Cannot take a larger sample than population when 'replace=False'",
     "output_type": "error",
     "traceback": [
      "\u001b[1;31m---------------------------------------------------------------------------\u001b[0m",
      "\u001b[1;31mValueError\u001b[0m                                Traceback (most recent call last)",
      "Cell \u001b[1;32mIn[12], line 8\u001b[0m\n\u001b[0;32m      5\u001b[0m \u001b[38;5;28;01mfor\u001b[39;00m t \u001b[38;5;129;01min\u001b[39;00m \u001b[38;5;28mrange\u001b[39m(n_time):\n\u001b[0;32m      6\u001b[0m     \u001b[38;5;66;03m#C= C_t[t]            #prova\u001b[39;00m\n\u001b[0;32m      7\u001b[0m     C\u001b[38;5;241m=\u001b[39m C_0[t]             \u001b[38;5;66;03m#prova\u001b[39;00m\n\u001b[1;32m----> 8\u001b[0m     A_t[t] \u001b[38;5;241m=\u001b[39m calcolo_matrice_adiacenza_finale(C,beta,phi,W,\u001b[38;5;241m1\u001b[39m)\n\u001b[0;32m      9\u001b[0m \u001b[38;5;28mprint\u001b[39m(\u001b[38;5;124m\"\u001b[39m\u001b[38;5;124mmatrice adiacenza:\u001b[39m\u001b[38;5;130;01m\\n\u001b[39;00m\u001b[38;5;124m\"\u001b[39m,A_t)\n",
      "File \u001b[1;32m~\\OneDrive\\Desktop\\tesi\\opinion-dynamics\\bozza-programma-opinion-Dynamics\\Caratteristiche costante-Adiacenza variabile\\funzioni_utili.py:521\u001b[0m, in \u001b[0;36mcalcolo_matrice_adiacenza_finale\u001b[1;34m(C, beta, phi, W, output)\u001b[0m\n\u001b[0;32m    517\u001b[0m \u001b[38;5;28mprint\u001b[39m(np\u001b[38;5;241m.\u001b[39mshape(a))\n\u001b[0;32m    519\u001b[0m \u001b[38;5;66;03m#5) estraggo a sorte sulla base della distribuzione di probabilità, i nodi da collegare a nodo i (fissato)\u001b[39;00m\n\u001b[1;32m--> 521\u001b[0m nodes \u001b[38;5;241m=\u001b[39m np\u001b[38;5;241m.\u001b[39mrandom\u001b[38;5;241m.\u001b[39mchoice(a, size \u001b[38;5;241m=\u001b[39m size, replace\u001b[38;5;241m=\u001b[39m\u001b[38;5;28;01mNone\u001b[39;00m, p \u001b[38;5;241m=\u001b[39m p)\n\u001b[0;32m    522\u001b[0m \u001b[38;5;28mprint\u001b[39m(\u001b[38;5;124m\"\u001b[39m\u001b[38;5;124mnodi con link:\u001b[39m\u001b[38;5;124m\"\u001b[39m,nodes)\n\u001b[0;32m    524\u001b[0m \u001b[38;5;66;03m#6) selezionati i nodi che avranno i link con il nodo i, assegno il link con i per tutti i nodi\u001b[39;00m\n",
      "File \u001b[1;32mmtrand.pyx:984\u001b[0m, in \u001b[0;36mnumpy.random.mtrand.RandomState.choice\u001b[1;34m()\u001b[0m\n",
      "\u001b[1;31mValueError\u001b[0m: Cannot take a larger sample than population when 'replace=False'"
     ]
    }
   ],
   "source": [
    "#C_t = np.zeros((n_time,T,N))    #prova\n",
    "\n",
    "i=0\n",
    "t=0\n",
    "for t in range(n_time):\n",
    "    #C= C_t[t]            #prova\n",
    "    C= C_0[t]             #prova\n",
    "    A_t[t] = calcolo_matrice_adiacenza_finale(C,beta,phi,W,1)\n",
    "print(\"matrice adiacenza:\\n\",A_t)\n",
    "\n",
    "#il risultato viene sputato ma i link vengono sempre messi ??? (ad alte dimensioni non lo fa)"
   ]
  },
  {
   "cell_type": "code",
   "execution_count": 13,
   "id": "929dcdea",
   "metadata": {},
   "outputs": [],
   "source": [
    "#SALVATAGGIO OUTPUT"
   ]
  },
  {
   "cell_type": "code",
   "execution_count": 14,
   "id": "5748fecf",
   "metadata": {},
   "outputs": [],
   "source": [
    "np.save('lancio_1_basse_dim',A_t)\n",
    "np.savez('lancio_1_basse_dim_param',A_0,C_0,n_time,phi,beta,W,N,T)"
   ]
  },
  {
   "cell_type": "code",
   "execution_count": 15,
   "id": "8b5e61a1",
   "metadata": {},
   "outputs": [
    {
     "data": {
      "text/plain": [
       "array([[[0., 1.],\n",
       "        [1., 0.]],\n",
       "\n",
       "       [[0., 1.],\n",
       "        [1., 0.]],\n",
       "\n",
       "       [[0., 1.],\n",
       "        [1., 0.]],\n",
       "\n",
       "       [[0., 1.],\n",
       "        [1., 0.]],\n",
       "\n",
       "       [[0., 1.],\n",
       "        [1., 0.]],\n",
       "\n",
       "       [[0., 1.],\n",
       "        [1., 0.]],\n",
       "\n",
       "       [[0., 1.],\n",
       "        [1., 0.]],\n",
       "\n",
       "       [[0., 1.],\n",
       "        [1., 0.]],\n",
       "\n",
       "       [[0., 1.],\n",
       "        [1., 0.]],\n",
       "\n",
       "       [[0., 1.],\n",
       "        [1., 0.]]])"
      ]
     },
     "execution_count": 15,
     "metadata": {},
     "output_type": "execute_result"
    }
   ],
   "source": [
    "np.load('lancio_1_basse_dim.npy')"
   ]
  },
  {
   "cell_type": "code",
   "execution_count": 16,
   "id": "b055e549",
   "metadata": {},
   "outputs": [
    {
     "name": "stdout",
     "output_type": "stream",
     "text": [
      "A_0:\n",
      " [[0 1]\n",
      " [1 0]]\n",
      "C_0:\n",
      " [[[-0.53745087  0.92656517]\n",
      "  [ 3.2643991  -6.43142618]]\n",
      "\n",
      " [[ 6.11617951 -1.27850111]\n",
      "  [-6.06220925  5.36524349]]\n",
      "\n",
      " [[-2.96250305 -0.42536746]\n",
      "  [-8.30355098 -6.44819167]]\n",
      "\n",
      " [[ 8.35362851 -1.14449178]\n",
      "  [-9.75170396 -2.26435971]]\n",
      "\n",
      " [[-7.646565   -6.81152617]\n",
      "  [ 8.94726711 -3.80194684]]\n",
      "\n",
      " [[-0.07461847 -9.37404875]\n",
      "  [-2.11564145 -2.99798706]]\n",
      "\n",
      " [[-1.14726895  1.02120886]\n",
      "  [ 4.67302251 -2.67592532]]\n",
      "\n",
      " [[ 8.35528024 -8.94342193]\n",
      "  [ 0.07158396  4.70522415]]\n",
      "\n",
      " [[ 0.1567727  -8.88870655]\n",
      "  [-5.37629653  7.27826583]]\n",
      "\n",
      " [[ 6.80040704  9.78559327]\n",
      "  [-8.64013253 -9.63248005]]]\n",
      "n_time: 10\n",
      "phi:\n",
      " [[1 0]\n",
      " [0 1]]\n",
      "beta: 1\n",
      "W:\n",
      " [[0.5 0.5]\n",
      " [0.5 0.5]]\n",
      "N: 2\n",
      "T: 2\n"
     ]
    }
   ],
   "source": [
    "npzfile = np.load('lancio_1_basse_dim_param.npz')\n",
    "print(\"A_0:\\n\",npzfile['arr_0'])\n",
    "print(\"C_0:\\n\",npzfile['arr_1'])\n",
    "print(\"n_time:\",npzfile['arr_2'])\n",
    "print(\"phi:\\n\",npzfile['arr_3'])\n",
    "print(\"beta:\",npzfile['arr_4'])\n",
    "print(\"W:\\n\",npzfile['arr_5'])\n",
    "print(\"N:\",npzfile['arr_6'])\n",
    "print(\"T:\",npzfile['arr_7'])"
   ]
  },
  {
   "cell_type": "code",
   "execution_count": null,
   "id": "ba09bf41",
   "metadata": {},
   "outputs": [],
   "source": []
  },
  {
   "cell_type": "code",
   "execution_count": 17,
   "id": "fdf821b8",
   "metadata": {},
   "outputs": [],
   "source": [
    "#fino qui ok"
   ]
  },
  {
   "cell_type": "markdown",
   "id": "0c57f908",
   "metadata": {},
   "source": [
    "PARTE2_b) CASO GENERALE: ALTE T E ALTE N"
   ]
  },
  {
   "cell_type": "markdown",
   "id": "123515a5",
   "metadata": {},
   "source": [
    "5) DEFINIZIONE PARAMETRI E COSTANTI"
   ]
  },
  {
   "cell_type": "code",
   "execution_count": 50,
   "id": "88253c0b",
   "metadata": {},
   "outputs": [],
   "source": [
    "N = 80 #numero di nodi\n",
    "T = 10 #numero di topic\n",
    "G =nx.Graph()\n",
    "beta= 1\n",
    "n_time=1000 #tempi integraione\n",
    "p = 0.6 #per grafo erdos-renyi(se usi quello)"
   ]
  },
  {
   "cell_type": "markdown",
   "id": "b1f6cbb7",
   "metadata": {},
   "source": [
    "6. INIZIALIZZAZIONE MATRICI"
   ]
  },
  {
   "cell_type": "code",
   "execution_count": 51,
   "id": "9c7e2d0e",
   "metadata": {},
   "outputs": [],
   "source": [
    "C = np.zeros((n_time,T,N))\n",
    "W = np.zeros((T,N))\n",
    "phi = np.zeros((T,T))\n",
    "A=np.zeros((N,N))"
   ]
  },
  {
   "cell_type": "markdown",
   "id": "34d418be",
   "metadata": {},
   "source": [
    "6_a)INIZIALIZZAZIONE MATRICE DELLE CARATTERISTICHE"
   ]
  },
  {
   "cell_type": "code",
   "execution_count": 52,
   "id": "6e582b87",
   "metadata": {},
   "outputs": [
    {
     "name": "stdout",
     "output_type": "stream",
     "text": [
      "dim: (1000, 10, 80)\n",
      "dim: (10, 80)\n"
     ]
    }
   ],
   "source": [
    "C_0=np.zeros((n_time,T,N)) #inizializzo matrice delle caratteristiche random a tuttti i tempi    #prova\n",
    "\n",
    "\n",
    "for t in range(n_time):\n",
    "    for i in range(T):\n",
    "        for j in range(N):\n",
    "            C_0[t][i][j]= random.uniform(-10,10)      #prova\n",
    "\n",
    "#print(\"C_0:\\n\",C_0)\n",
    "#print(\"C_0[t]:\\n\",C_0[t])\n",
    "print(\"dim:\",np.shape(C_0))\n",
    "print(\"dim:\",np.shape(C_0[1]))"
   ]
  },
  {
   "cell_type": "markdown",
   "id": "0ce5185f",
   "metadata": {},
   "source": [
    "6_b) INIZIALIZZAZIONE MATRICE PESI"
   ]
  },
  {
   "cell_type": "code",
   "execution_count": 53,
   "id": "b6efc747",
   "metadata": {},
   "outputs": [
    {
     "name": "stdout",
     "output_type": "stream",
     "text": [
      "dim: (10, 80)\n",
      "tipo: <class 'numpy.ndarray'>\n"
     ]
    }
   ],
   "source": [
    "#esempio:\n",
    "for i in range(T):\n",
    "    for j in range(N):\n",
    "        W[i][j] = random.random()\n",
    "#print(\"matrice dei pesi:\\n\",W)\n",
    "print(\"dim:\",np.shape(W))\n",
    "print(\"tipo:\",type(W))\n",
    "#controllo_matrice_pesi(W)      #ok"
   ]
  },
  {
   "cell_type": "markdown",
   "id": "23ff0747",
   "metadata": {},
   "source": [
    "6_c) INIZIALIZZAZIONE MATRICE COSENI"
   ]
  },
  {
   "cell_type": "code",
   "execution_count": 54,
   "id": "f0160d1a",
   "metadata": {},
   "outputs": [
    {
     "name": "stdout",
     "output_type": "stream",
     "text": [
      "phi:\n",
      " [[1. 0. 0. 0. 0. 0. 0. 0. 0. 0.]\n",
      " [0. 1. 0. 0. 0. 0. 0. 0. 0. 0.]\n",
      " [0. 0. 1. 0. 0. 0. 0. 0. 0. 0.]\n",
      " [0. 0. 0. 1. 0. 0. 0. 0. 0. 0.]\n",
      " [0. 0. 0. 0. 1. 0. 0. 0. 0. 0.]\n",
      " [0. 0. 0. 0. 0. 1. 0. 0. 0. 0.]\n",
      " [0. 0. 0. 0. 0. 0. 1. 0. 0. 0.]\n",
      " [0. 0. 0. 0. 0. 0. 0. 1. 0. 0.]\n",
      " [0. 0. 0. 0. 0. 0. 0. 0. 1. 0.]\n",
      " [0. 0. 0. 0. 0. 0. 0. 0. 0. 1.]]\n"
     ]
    }
   ],
   "source": [
    "phi = np.identity(T)\n",
    "print(\"phi:\\n\",phi)"
   ]
  },
  {
   "cell_type": "markdown",
   "id": "cb0a2ff2",
   "metadata": {},
   "source": [
    "6_d) INIZIALIZZAZIONE MATRICE ADIACENZA"
   ]
  },
  {
   "cell_type": "markdown",
   "id": "b3dcd4b2",
   "metadata": {},
   "source": [
    "6_d_1) GRAFO"
   ]
  },
  {
   "cell_type": "code",
   "execution_count": 55,
   "id": "75193ab2",
   "metadata": {},
   "outputs": [],
   "source": [
    "#si cambia di volta in volta\n",
    "G = nx.erdos_renyi_graph(N,p)"
   ]
  },
  {
   "cell_type": "markdown",
   "id": "1c86a42a",
   "metadata": {},
   "source": [
    "6_d_2) MATRICE ADIACENZA"
   ]
  },
  {
   "cell_type": "code",
   "execution_count": 56,
   "id": "6c424fab",
   "metadata": {},
   "outputs": [
    {
     "name": "stdout",
     "output_type": "stream",
     "text": [
      "dim: (1000, 80, 80)\n",
      "dim: (80, 80)\n",
      "A_t=\n",
      " [[[0. 0. 0. ... 1. 0. 0.]\n",
      "  [0. 0. 0. ... 1. 0. 1.]\n",
      "  [0. 0. 0. ... 1. 0. 1.]\n",
      "  ...\n",
      "  [1. 1. 1. ... 0. 1. 0.]\n",
      "  [0. 0. 0. ... 1. 0. 0.]\n",
      "  [0. 1. 1. ... 0. 0. 0.]]\n",
      "\n",
      " [[0. 0. 0. ... 1. 0. 0.]\n",
      "  [0. 0. 0. ... 1. 0. 1.]\n",
      "  [0. 0. 0. ... 1. 0. 1.]\n",
      "  ...\n",
      "  [1. 1. 1. ... 0. 1. 0.]\n",
      "  [0. 0. 0. ... 1. 0. 0.]\n",
      "  [0. 1. 1. ... 0. 0. 0.]]\n",
      "\n",
      " [[0. 0. 0. ... 1. 0. 0.]\n",
      "  [0. 0. 0. ... 1. 0. 1.]\n",
      "  [0. 0. 0. ... 1. 0. 1.]\n",
      "  ...\n",
      "  [1. 1. 1. ... 0. 1. 0.]\n",
      "  [0. 0. 0. ... 1. 0. 0.]\n",
      "  [0. 1. 1. ... 0. 0. 0.]]\n",
      "\n",
      " ...\n",
      "\n",
      " [[0. 0. 0. ... 1. 0. 0.]\n",
      "  [0. 0. 0. ... 1. 0. 1.]\n",
      "  [0. 0. 0. ... 1. 0. 1.]\n",
      "  ...\n",
      "  [1. 1. 1. ... 0. 1. 0.]\n",
      "  [0. 0. 0. ... 1. 0. 0.]\n",
      "  [0. 1. 1. ... 0. 0. 0.]]\n",
      "\n",
      " [[0. 0. 0. ... 1. 0. 0.]\n",
      "  [0. 0. 0. ... 1. 0. 1.]\n",
      "  [0. 0. 0. ... 1. 0. 1.]\n",
      "  ...\n",
      "  [1. 1. 1. ... 0. 1. 0.]\n",
      "  [0. 0. 0. ... 1. 0. 0.]\n",
      "  [0. 1. 1. ... 0. 0. 0.]]\n",
      "\n",
      " [[0. 0. 0. ... 1. 0. 0.]\n",
      "  [0. 0. 0. ... 1. 0. 1.]\n",
      "  [0. 0. 0. ... 1. 0. 1.]\n",
      "  ...\n",
      "  [1. 1. 1. ... 0. 1. 0.]\n",
      "  [0. 0. 0. ... 1. 0. 0.]\n",
      "  [0. 1. 1. ... 0. 0. 0.]]]\n"
     ]
    }
   ],
   "source": [
    "A_0=np.zeros((N,N))   #prova\n",
    "\n",
    "\"\"\"\n",
    "for i in range(N):                                          #prova\n",
    "    for j in range(N):\n",
    "        if(i == j):\n",
    "            A_0[i][j] = 0\n",
    "        else:\n",
    "            A_0[i][j]=1\n",
    "#print(\"A_0=\\n\",A_0)\n",
    "\"\"\"\n",
    "\n",
    "A_0 = nx.adjacency_matrix(G).todense()\n",
    "A_t=np.zeros((n_time,N,N)) #evoluzione matrice adiacenza\n",
    "\n",
    "for t in range(n_time):\n",
    "    A_t[t]=A_0\n",
    "    \n",
    "print(\"dim:\",np.shape(A_t))\n",
    "print(\"dim:\",np.shape(A_t[0]))\n",
    "print(\"A_t=\\n\",A_t)\n"
   ]
  },
  {
   "cell_type": "markdown",
   "id": "24ee030a",
   "metadata": {},
   "source": [
    "7. CALCOLO MATRICE ADIACENZA A TUTTI I TEMPI"
   ]
  },
  {
   "cell_type": "code",
   "execution_count": 57,
   "id": "095a41a8",
   "metadata": {},
   "outputs": [
    {
     "name": "stdout",
     "output_type": "stream",
     "text": [
      "tempo: 0\n",
      "tempo: 1\n",
      "tempo: 2\n",
      "tempo: 3\n",
      "tempo: 4\n",
      "tempo: 5\n",
      "tempo: 6\n",
      "tempo: 7\n"
     ]
    },
    {
     "ename": "KeyboardInterrupt",
     "evalue": "",
     "output_type": "error",
     "traceback": [
      "\u001b[1;31m---------------------------------------------------------------------------\u001b[0m",
      "\u001b[1;31mKeyboardInterrupt\u001b[0m                         Traceback (most recent call last)",
      "Cell \u001b[1;32mIn[57], line 7\u001b[0m\n\u001b[0;32m      5\u001b[0m     \u001b[38;5;28mprint\u001b[39m(\u001b[38;5;124m\"\u001b[39m\u001b[38;5;124mtempo:\u001b[39m\u001b[38;5;124m\"\u001b[39m,t)\n\u001b[0;32m      6\u001b[0m     C\u001b[38;5;241m=\u001b[39m C_0[t]\n\u001b[1;32m----> 7\u001b[0m     A_t[t] \u001b[38;5;241m=\u001b[39m calcolo_matrice_adiacenza_finale(C,beta,phi,W,\u001b[38;5;241m1\u001b[39m)\n\u001b[0;32m      9\u001b[0m \u001b[38;5;28mprint\u001b[39m(\u001b[38;5;124m\"\u001b[39m\u001b[38;5;124mdim\u001b[39m\u001b[38;5;124m\"\u001b[39m,np\u001b[38;5;241m.\u001b[39mshape(A_t[t]))\n\u001b[0;32m     10\u001b[0m \u001b[38;5;28mprint\u001b[39m(\u001b[38;5;124m\"\u001b[39m\u001b[38;5;124mmatrice adiacenza:\u001b[39m\u001b[38;5;130;01m\\n\u001b[39;00m\u001b[38;5;124m\"\u001b[39m,A_t)\n",
      "File \u001b[1;32m~\\OneDrive\\Desktop\\tesi\\opinion-dynamics\\bozza-programma-opinion-Dynamics\\Caratteristiche costante-Adiacenza variabile\\funzioni_utili.py:505\u001b[0m, in \u001b[0;36mcalcolo_matrice_adiacenza_finale\u001b[1;34m(C, beta, phi, W, output)\u001b[0m\n\u001b[0;32m    501\u001b[0m \u001b[38;5;28;01mfor\u001b[39;00m j \u001b[38;5;129;01min\u001b[39;00m \u001b[38;5;28mlist\u001b[39m(G\u001b[38;5;241m.\u001b[39mnodes()): \n\u001b[0;32m    503\u001b[0m     \u001b[38;5;28;01mif\u001b[39;00m( j \u001b[38;5;241m!=\u001b[39m i ):\n\u001b[1;32m--> 505\u001b[0m         p_ij \u001b[38;5;241m=\u001b[39m probabilità_link(C,beta,phi,W,i,j)\n\u001b[0;32m    506\u001b[0m         p\u001b[38;5;241m.\u001b[39mappend(p_ij)\n\u001b[0;32m    508\u001b[0m \u001b[38;5;66;03m#print(np.shape(p))\u001b[39;00m\n\u001b[0;32m    509\u001b[0m         \n\u001b[0;32m    510\u001b[0m \u001b[38;5;66;03m#4) genero la lista dei nodi da dare a random_choice \u001b[39;00m\n",
      "File \u001b[1;32m~\\OneDrive\\Desktop\\tesi\\opinion-dynamics\\bozza-programma-opinion-Dynamics\\Caratteristiche costante-Adiacenza variabile\\funzioni_utili.py:290\u001b[0m, in \u001b[0;36mprobabilità_link\u001b[1;34m(C, beta, phi, W, i, j)\u001b[0m\n\u001b[0;32m    287\u001b[0m w_k \u001b[38;5;241m=\u001b[39m estrai_colonna(W,k)\n\u001b[0;32m    289\u001b[0m \u001b[38;5;66;03m#4b) calcolo i singoli elementi della somma al denominatore. Al variare di k cambia l' elemento della somma perchè è la distanza d(x_i,x_k) e x_k cambia\u001b[39;00m\n\u001b[1;32m--> 290\u001b[0m d_denominatore \u001b[38;5;241m=\u001b[39m \u001b[38;5;28mfloat\u001b[39m(prodotto_scalare_matrice_coseni(x_i,x_k,w_i,w_k,T,phi))\n\u001b[0;32m    291\u001b[0m d_denominatore \u001b[38;5;241m=\u001b[39m \u001b[38;5;28mabs\u001b[39m(d_denominatore)\n\u001b[0;32m    292\u001b[0m d_denominatore \u001b[38;5;241m=\u001b[39m math\u001b[38;5;241m.\u001b[39mpow(d_denominatore, \u001b[38;5;241m-\u001b[39m beta)\n",
      "File \u001b[1;32m~\\OneDrive\\Desktop\\tesi\\opinion-dynamics\\bozza-programma-opinion-Dynamics\\Caratteristiche costante-Adiacenza variabile\\funzioni_utili.py:78\u001b[0m, in \u001b[0;36mprodotto_scalare_matrice_coseni\u001b[1;34m(x, y, w_x, w_y, T, phi)\u001b[0m\n\u001b[0;32m     76\u001b[0m             cos_alpha_xy \u001b[38;5;241m=\u001b[39m phi[i][j]\n\u001b[0;32m     77\u001b[0m             \u001b[38;5;66;03m#print(\"cos_alpha_xy:\",cos_alpha_xy)\u001b[39;00m\n\u001b[1;32m---> 78\u001b[0m             scalar_product \u001b[38;5;241m=\u001b[39m scalar_product \u001b[38;5;241m+\u001b[39m x[i]\u001b[38;5;241m*\u001b[39mw_x[i]\u001b[38;5;241m*\u001b[39my[j]\u001b[38;5;241m*\u001b[39mw_y[j]\u001b[38;5;241m*\u001b[39mcos_alpha_xy\n\u001b[0;32m     79\u001b[0m             \u001b[38;5;66;03m#print(\"x=\",x[i],\"y=\",y[j],\"w_x=\",w_x[i],\"w_y=\",w_y[j],\"parziali:\",x[i]*w_x[i]*y[j]*w_y[j]*cos_alpha_xy) #debug\u001b[39;00m\n\u001b[0;32m     80\u001b[0m \u001b[38;5;28;01mreturn\u001b[39;00m scalar_product\n",
      "\u001b[1;31mKeyboardInterrupt\u001b[0m: "
     ]
    }
   ],
   "source": [
    "#print(\"dimensione  matrice caratteristica tempo t:\",np.shape(C_0[4]))\n",
    "#print(\"elemento C_0[t] al tempo t = \", 4,\":\\n\",C_0[4])\n",
    "G1= nx.Graph() #grafo vuoto(sarà output)\n",
    "for t in range(n_time):\n",
    "    print(\"tempo:\",t)\n",
    "    C= C_0[t]\n",
    "    A_t[t] = calcolo_matrice_adiacenza_finale(C,beta,phi,W,1)\n",
    "    \n",
    "print(\"dim\",np.shape(A_t[t]))\n",
    "print(\"matrice adiacenza:\\n\",A_t)\n",
    "\n",
    "#np.save('lancio_1_alte_dim',A_t)\n",
    "#np.savez('lancio_1_alte_dim_param',A_0,C_0,n_time,phi,beta,W,N,T)\n",
    "\n",
    "#del(A_t)                              #salvando A_t e pulendo la shell (sopra : cell->current output ->clear), le dimensioni del file non aumentano: secondo me a causa di tutti i print che ci sono nella funzione 'calcolo_matrice_adiacenza'-> li ho tolti ora tutto ok\n",
    "\n",
    "#se ad alte dim va ancora lento, togli i print dentro funzione calcolo_matrice_adiacenza_finale (dopo cambi detti dal prof, dovrebbe andare più veloce)"
   ]
  },
  {
   "cell_type": "code",
   "execution_count": 12,
   "id": "15447827",
   "metadata": {},
   "outputs": [],
   "source": [
    "np.save('lancio_3_alte_dim',A_t)\n",
    "np.savez('lancio_3_alte_dim_param',A_0,C_0,n_time,phi,beta,W,N,T)"
   ]
  },
  {
   "cell_type": "code",
   "execution_count": 36,
   "id": "dbfe067e",
   "metadata": {},
   "outputs": [
    {
     "name": "stdout",
     "output_type": "stream",
     "text": [
      "46\n"
     ]
    }
   ],
   "source": [
    "elem=0\n",
    "for i in range(N):\n",
    "    for j in range(N):\n",
    "        if (A_t[9][i][j] ==1 ):\n",
    "            elem = elem+1\n",
    "print(elem)"
   ]
  },
  {
   "cell_type": "code",
   "execution_count": 37,
   "id": "b742e595",
   "metadata": {},
   "outputs": [],
   "source": [
    "#SALVATAGGIO OUTPUT(SOPRA E SOTTO)"
   ]
  },
  {
   "cell_type": "code",
   "execution_count": 4,
   "id": "f478e34f",
   "metadata": {},
   "outputs": [],
   "source": [
    "A_t_load = np.load('lancio_3_alte_dim.npy')"
   ]
  },
  {
   "cell_type": "code",
   "execution_count": 5,
   "id": "dd5427a2",
   "metadata": {},
   "outputs": [
    {
     "name": "stdout",
     "output_type": "stream",
     "text": [
      "prova caricamento: [[0. 0. 0. ... 0. 0. 0.]\n",
      " [0. 0. 0. ... 0. 1. 0.]\n",
      " [0. 0. 0. ... 0. 0. 0.]\n",
      " ...\n",
      " [0. 0. 0. ... 0. 0. 0.]\n",
      " [0. 1. 0. ... 0. 0. 1.]\n",
      " [0. 0. 0. ... 0. 1. 0.]]\n"
     ]
    }
   ],
   "source": [
    "print(\"prova caricamento:\",A_t_load[6])"
   ]
  },
  {
   "cell_type": "code",
   "execution_count": 5,
   "id": "99e3eff2",
   "metadata": {},
   "outputs": [
    {
     "name": "stdout",
     "output_type": "stream",
     "text": [
      "A_0:\n",
      " [[0 1 1 ... 1 0 0]\n",
      " [1 0 0 ... 1 1 1]\n",
      " [1 0 0 ... 1 1 0]\n",
      " ...\n",
      " [1 1 1 ... 0 1 0]\n",
      " [0 1 1 ... 1 0 0]\n",
      " [0 1 0 ... 0 0 0]]\n",
      "C_0:\n",
      " [[[-7.94486245 -4.33509121 -9.06167348 ...  1.91853619  4.11167551\n",
      "    2.28162915]\n",
      "  [ 3.56981496 -8.43367794  2.74093661 ... -0.1427623   1.69848795\n",
      "    3.93358183]\n",
      "  [ 4.19865065  3.05875589 -1.8873175  ... -0.59701772  0.51549975\n",
      "    8.48533962]\n",
      "  ...\n",
      "  [-1.1380888   7.68625271  9.41144872 ... -3.85859639 -4.32591331\n",
      "    2.77696846]\n",
      "  [-3.77092659 -9.22423926  2.19105761 ...  3.89760013  9.78127078\n",
      "    6.09221984]\n",
      "  [-5.21177083  1.52454187 -8.61980752 ... -3.45565097 -7.89348141\n",
      "   -5.69466679]]\n",
      "\n",
      " [[-6.38865051 -9.26092981 -5.48746144 ...  1.17479191 -3.62409777\n",
      "    9.8871024 ]\n",
      "  [ 7.8209187  -9.50603431  7.98543878 ... -0.5921511   3.82578094\n",
      "    0.30855276]\n",
      "  [-2.31132091  2.35439622  2.31316623 ...  5.98749506 -2.53052945\n",
      "    1.57240168]\n",
      "  ...\n",
      "  [ 5.92571132 -8.89994922 -3.5705318  ...  1.15692924  1.8603576\n",
      "    6.96152843]\n",
      "  [ 2.53718862  1.63975094  9.400984   ... -3.52255067 -9.48007804\n",
      "   -1.89579469]\n",
      "  [ 9.82636768 -2.20052173  7.67135174 ...  4.98910344  3.6513532\n",
      "    6.72919891]]\n",
      "\n",
      " [[ 3.75735664 -7.1943975   2.55427436 ... -7.66914416 -4.64141667\n",
      "   -4.91483061]\n",
      "  [-1.17288232  5.25102972  4.55379388 ...  0.84301958 -9.83513953\n",
      "   -5.35918026]\n",
      "  [ 1.57343618 -8.28227906 -5.90838391 ... -1.85200339 -4.23879603\n",
      "   -5.52762118]\n",
      "  ...\n",
      "  [ 6.42584349  8.23906283  9.42777304 ... -6.41068758 -3.05054457\n",
      "    5.50559221]\n",
      "  [ 4.83592544 -1.90070943 -2.57527131 ...  9.65569628 -6.04484457\n",
      "   -6.92698243]\n",
      "  [ 2.62412817 -8.53830552  1.83650653 ...  9.47137977  2.029272\n",
      "   -2.09289226]]\n",
      "\n",
      " ...\n",
      "\n",
      " [[ 4.45363642  8.75839616  9.11572473 ... -3.24723408 -8.76692353\n",
      "   -0.65743081]\n",
      "  [ 8.84381429  5.18342973 -9.29435497 ... -4.53305345 -7.0649136\n",
      "    2.04898196]\n",
      "  [ 2.14922775 -3.53273658  5.0740291  ... -2.97207619 -5.68157798\n",
      "   -3.36437336]\n",
      "  ...\n",
      "  [-6.73948227  1.01163551 -5.81457733 ... -3.34639773  2.84789079\n",
      "    2.04011625]\n",
      "  [-2.68365577 -5.96000747  3.42500423 ... -9.21499626 -2.25308241\n",
      "   -0.93550764]\n",
      "  [ 3.39891283  9.89515582 -5.08226162 ...  8.84003668  0.86224451\n",
      "   -5.04938536]]\n",
      "\n",
      " [[-7.86440119 -2.27097153 -4.10967144 ...  8.50564791 -0.40582403\n",
      "   -1.99191977]\n",
      "  [ 2.90633171 -4.10447298  7.80800432 ... -6.30455513 -4.99228417\n",
      "    6.46382893]\n",
      "  [-2.94158613 -7.3424066   5.42895158 ...  8.63687627  4.6789997\n",
      "    2.19779202]\n",
      "  ...\n",
      "  [ 8.75186538  2.61653406 -6.82209334 ...  2.74478952  3.7000894\n",
      "    4.12059502]\n",
      "  [-5.76834145 -4.52649434  0.55104789 ... -2.9716901  -3.22624379\n",
      "   -8.05059361]\n",
      "  [ 8.08560966 -6.59858476 -7.33017645 ... -2.08418183  2.97357104\n",
      "   -2.05298206]]\n",
      "\n",
      " [[-7.07326387  0.16919732 -5.64889    ... -8.7746373  -2.85050435\n",
      "   -2.39907599]\n",
      "  [-1.36678952  0.6303215   2.4850904  ...  0.98451847 -9.68468348\n",
      "   -1.35877335]\n",
      "  [ 1.13927682  3.81441317  6.83603698 ...  5.12317305  3.04508283\n",
      "   -7.26359665]\n",
      "  ...\n",
      "  [-2.0809502   8.37270781  0.70383346 ...  0.10043728  7.92716845\n",
      "    4.98369092]\n",
      "  [-6.66280862 -9.03116223 -3.21572621 ...  0.8952432   3.25385807\n",
      "    3.50516923]\n",
      "  [-5.11940805  9.11185981 -4.52663078 ... -5.55030935 -3.64911163\n",
      "    9.10041757]]]\n",
      "n_time: 500\n",
      "phi:\n",
      " [[1. 0. 0. 0. 0. 0. 0. 0. 0. 0.]\n",
      " [0. 1. 0. 0. 0. 0. 0. 0. 0. 0.]\n",
      " [0. 0. 1. 0. 0. 0. 0. 0. 0. 0.]\n",
      " [0. 0. 0. 1. 0. 0. 0. 0. 0. 0.]\n",
      " [0. 0. 0. 0. 1. 0. 0. 0. 0. 0.]\n",
      " [0. 0. 0. 0. 0. 1. 0. 0. 0. 0.]\n",
      " [0. 0. 0. 0. 0. 0. 1. 0. 0. 0.]\n",
      " [0. 0. 0. 0. 0. 0. 0. 1. 0. 0.]\n",
      " [0. 0. 0. 0. 0. 0. 0. 0. 1. 0.]\n",
      " [0. 0. 0. 0. 0. 0. 0. 0. 0. 1.]]\n",
      "beta: 1\n",
      "W:\n",
      " [[6.29099333e-01 6.83639324e-01 5.39721134e-01 5.61224553e-01\n",
      "  2.07839416e-01 8.01762055e-01 2.10416610e-01 2.90392516e-01\n",
      "  8.13418278e-01 8.46474557e-02 2.79293575e-01 6.70058478e-01\n",
      "  8.05091421e-01 9.35942199e-01 3.59857402e-01 7.55699186e-01\n",
      "  2.15730589e-01 7.41704765e-01 3.70463736e-01 6.00537691e-01\n",
      "  9.96572344e-01 3.65217805e-01 8.07971133e-01 2.91507767e-01\n",
      "  9.09685457e-01 6.62127794e-01 1.53822588e-01 3.41425286e-01\n",
      "  8.94405377e-01 5.54127171e-01 6.29554939e-01 2.11671083e-02\n",
      "  5.50741886e-01 2.65567575e-01 6.36982543e-01 1.21185009e-01\n",
      "  9.60652230e-02 5.80593066e-01 9.16634515e-01 3.00377283e-01\n",
      "  6.63584278e-01 3.78385706e-01 4.95037279e-01 2.55862102e-01\n",
      "  1.62377178e-01 6.78447994e-01 3.13446018e-01 1.22564196e-01\n",
      "  2.77031369e-01 2.32872820e-01]\n",
      " [3.39754576e-01 2.15196384e-01 3.72441914e-01 8.40284398e-01\n",
      "  3.44127950e-01 8.84188740e-02 2.36933658e-01 1.89485055e-01\n",
      "  3.14480476e-01 9.65728791e-01 1.66093241e-02 5.90813821e-01\n",
      "  4.69099968e-01 6.64951264e-02 2.41192689e-01 8.57441930e-01\n",
      "  3.58734119e-01 7.38005173e-01 3.78981924e-01 8.27552946e-01\n",
      "  7.82970488e-01 2.96891988e-02 4.17886999e-01 4.24067843e-02\n",
      "  9.24922745e-01 3.16048134e-01 2.51081855e-01 9.15390860e-01\n",
      "  6.88275786e-01 1.14316831e-01 1.12303409e-01 9.56182934e-01\n",
      "  7.98508466e-01 3.12499046e-01 1.33490094e-01 1.49595668e-01\n",
      "  8.15766506e-02 2.79919192e-01 2.41707931e-01 1.21817360e-01\n",
      "  3.22752792e-01 3.87282026e-02 6.83034210e-01 6.06691078e-01\n",
      "  8.11108993e-01 2.32517282e-01 8.69814811e-01 3.82409440e-01\n",
      "  8.95427499e-01 7.41402603e-01]\n",
      " [3.01978248e-02 8.39069582e-01 5.81297528e-01 8.00604368e-01\n",
      "  4.86833359e-01 4.42632256e-02 3.77563293e-01 7.42155835e-01\n",
      "  3.62239257e-01 8.66337109e-01 9.73908998e-01 1.16691705e-01\n",
      "  3.25923471e-01 7.90981274e-01 6.11593616e-02 9.34574089e-01\n",
      "  8.24298213e-01 1.96003203e-01 2.86912071e-01 3.00822695e-01\n",
      "  2.90284604e-01 7.13263626e-01 8.16515434e-01 7.50923385e-01\n",
      "  8.93712326e-01 1.83078485e-01 8.86079512e-01 7.58444848e-01\n",
      "  8.01352761e-01 4.13935584e-01 7.06467208e-01 2.35231991e-01\n",
      "  4.42650966e-01 9.49807156e-01 2.60439968e-01 2.75095477e-01\n",
      "  1.36257672e-01 1.11124899e-01 1.91703438e-01 1.56221025e-01\n",
      "  4.52614893e-01 4.18496061e-01 6.58015635e-01 6.29028533e-01\n",
      "  2.40659291e-01 4.27092508e-02 4.34734070e-01 8.04288194e-01\n",
      "  9.13895232e-01 6.01325395e-01]\n",
      " [9.37185495e-01 1.66900494e-01 9.28738583e-01 7.19692581e-01\n",
      "  4.32642961e-01 3.12300191e-01 5.23123063e-01 8.61072443e-01\n",
      "  1.62437969e-01 3.64248499e-01 8.25420069e-01 8.47692615e-01\n",
      "  4.37099033e-01 5.43064703e-01 9.48490471e-01 5.41204454e-03\n",
      "  8.36723693e-01 9.84863937e-02 5.39709705e-01 3.64625549e-01\n",
      "  3.66795227e-01 4.89659076e-01 6.94444633e-01 9.32902237e-01\n",
      "  6.64017135e-01 8.46781975e-01 9.19519566e-01 9.34938136e-01\n",
      "  3.97785421e-01 8.27793088e-01 8.16981490e-01 7.03905146e-01\n",
      "  9.21875459e-01 9.13062874e-01 4.53019018e-01 4.59461449e-01\n",
      "  5.47412954e-01 1.40086739e-01 3.93828358e-01 4.46248131e-01\n",
      "  1.74940630e-01 8.87578793e-01 3.62405203e-01 4.23930942e-01\n",
      "  7.85239326e-02 7.68616773e-01 6.29347755e-03 8.05123793e-01\n",
      "  1.61314998e-01 1.88991061e-01]\n",
      " [9.20416870e-01 4.90667869e-02 7.87374091e-01 8.41919296e-01\n",
      "  7.59330657e-02 4.76700834e-02 9.44270462e-01 4.06629520e-01\n",
      "  6.39194388e-01 6.87340505e-01 8.35377692e-01 9.30272908e-01\n",
      "  4.70410703e-01 6.65305999e-01 5.80317719e-01 3.30938849e-02\n",
      "  2.73982733e-01 2.23702642e-01 7.95802802e-01 7.81906532e-01\n",
      "  7.63801307e-01 3.50114559e-01 5.88382727e-01 2.52758898e-01\n",
      "  3.24469187e-01 2.24503986e-01 9.98994929e-01 1.00731249e-01\n",
      "  2.11974047e-01 3.86629340e-01 6.86707884e-01 3.27993387e-01\n",
      "  7.71737577e-01 5.06989102e-01 1.07097417e-01 5.83555738e-01\n",
      "  7.91066917e-01 9.32744770e-02 6.04321438e-02 8.22229715e-01\n",
      "  8.97468783e-01 6.42860766e-01 7.91766771e-01 6.58325907e-01\n",
      "  3.65840642e-01 8.52289675e-01 1.37940824e-02 6.66918972e-01\n",
      "  9.55902957e-01 3.40378085e-01]\n",
      " [2.47148726e-01 7.28437569e-01 1.75314938e-02 7.41738431e-02\n",
      "  7.78432380e-01 8.30676323e-01 1.49990044e-01 8.87847207e-01\n",
      "  1.81507191e-01 3.90765174e-01 3.19368187e-01 6.74809038e-01\n",
      "  2.34723695e-01 1.36488498e-01 2.77580898e-01 8.36530578e-01\n",
      "  2.19734216e-01 9.36255118e-01 4.62375905e-02 6.68321018e-01\n",
      "  9.92156859e-01 8.20244225e-02 4.94050301e-01 6.73656737e-02\n",
      "  6.82098334e-01 1.50795206e-01 1.13169473e-01 2.32350519e-01\n",
      "  4.85790639e-01 3.36457078e-01 1.90074555e-01 8.36147850e-01\n",
      "  8.58523748e-01 9.00987130e-01 7.80826393e-01 9.86120881e-01\n",
      "  2.05143940e-01 5.73208041e-01 9.37237699e-01 3.42606016e-01\n",
      "  8.70429587e-01 7.20764783e-01 6.50106785e-01 7.54882396e-01\n",
      "  8.49388939e-01 7.89241229e-01 1.91207189e-02 1.21184875e-01\n",
      "  3.84735643e-01 2.33491500e-01]\n",
      " [8.62320420e-01 4.72315438e-01 6.39931017e-01 7.55447710e-01\n",
      "  9.37352832e-01 4.45145392e-01 2.80768021e-01 3.54018937e-02\n",
      "  4.64941164e-01 9.27596178e-02 4.83822234e-01 8.38695253e-01\n",
      "  4.15571009e-01 1.77441042e-01 1.05123899e-01 8.10331082e-01\n",
      "  9.25576904e-01 6.77358659e-01 7.65035967e-01 9.54357629e-03\n",
      "  6.28171966e-01 5.39485558e-01 7.93408913e-01 4.55160396e-01\n",
      "  2.03105127e-01 5.23573332e-01 4.06290560e-01 4.58419953e-01\n",
      "  1.97802575e-01 9.73735178e-01 5.29289196e-01 7.30542803e-01\n",
      "  7.58462055e-01 2.67083656e-01 8.67671261e-01 9.01363262e-01\n",
      "  9.21392794e-01 1.84022189e-01 1.50198235e-01 3.23205658e-01\n",
      "  3.90258219e-02 9.33220759e-01 8.51815105e-02 4.85204121e-01\n",
      "  6.30594187e-01 7.78354065e-01 3.69294693e-01 7.12367740e-01\n",
      "  4.28380701e-01 8.86353049e-04]\n",
      " [1.62404422e-01 4.53380768e-01 8.76364134e-01 7.21672138e-01\n",
      "  2.71982321e-01 3.42459183e-01 6.62449877e-01 5.46829441e-01\n",
      "  3.68002983e-02 8.94182426e-01 7.60979564e-01 4.31420567e-01\n",
      "  2.61941439e-01 2.52012591e-01 6.37013142e-01 3.11515933e-03\n",
      "  4.05650234e-01 2.52509203e-01 4.07607943e-01 2.91273270e-01\n",
      "  4.65997437e-01 6.78983458e-01 9.33313025e-01 4.01502075e-01\n",
      "  8.42145166e-01 6.19011239e-01 1.31517735e-01 5.18690955e-01\n",
      "  6.83090488e-02 5.76695793e-01 2.20976229e-01 1.56288000e-01\n",
      "  9.92815495e-01 6.67664757e-01 3.63308066e-01 7.00818097e-01\n",
      "  3.93260788e-01 7.66377306e-01 6.20223273e-02 3.95899651e-02\n",
      "  2.91159050e-01 2.64023432e-01 1.47612093e-01 7.34827433e-01\n",
      "  8.40960024e-01 9.53939600e-01 6.77369828e-02 9.26960765e-01\n",
      "  8.36172427e-01 5.69196795e-02]\n",
      " [5.86504938e-02 4.32497612e-01 4.87920382e-01 4.75835418e-01\n",
      "  1.71041795e-01 2.88122944e-01 2.78096324e-01 9.12636881e-02\n",
      "  4.90309014e-01 9.46287200e-01 1.77399529e-01 1.85483338e-01\n",
      "  4.29678440e-02 5.21899546e-01 9.68624389e-01 2.08492044e-01\n",
      "  2.67004245e-01 4.47823177e-01 7.42474414e-01 5.25403483e-01\n",
      "  5.87572941e-01 5.57311703e-01 5.26901901e-02 2.12452515e-01\n",
      "  2.69286670e-01 9.47382894e-01 2.56340406e-01 1.87497248e-01\n",
      "  7.71140540e-01 2.50450945e-01 3.26932166e-01 1.32915435e-01\n",
      "  8.37086552e-02 7.45515779e-01 2.46095429e-01 9.21984257e-01\n",
      "  2.52244798e-02 3.27659578e-01 8.75255363e-01 8.56439251e-01\n",
      "  8.46303584e-01 3.21565337e-01 2.43251851e-01 2.60508712e-01\n",
      "  9.52529008e-02 7.05593567e-02 7.06617473e-01 3.17521537e-02\n",
      "  6.44786711e-01 3.37231047e-01]\n",
      " [3.51718753e-01 8.48957300e-01 4.58422852e-02 9.45786566e-01\n",
      "  7.49409089e-01 2.47825565e-02 2.03275037e-01 9.80106258e-01\n",
      "  2.02147692e-01 4.62461012e-01 5.16987853e-01 3.09350620e-01\n",
      "  4.42559087e-01 4.82514732e-01 3.19365351e-01 1.95123945e-01\n",
      "  2.46642259e-01 1.40668297e-01 2.97896957e-01 2.42384565e-01\n",
      "  9.82900976e-01 9.46499416e-01 5.23928540e-01 7.45189073e-01\n",
      "  5.14356611e-02 3.38756263e-01 2.82701196e-01 2.55316727e-01\n",
      "  7.67097896e-02 3.93813393e-01 1.75399785e-01 9.14136510e-01\n",
      "  4.86285350e-01 3.07793813e-01 6.87675225e-01 6.27377404e-01\n",
      "  5.04957118e-01 7.08521956e-01 7.14601172e-01 6.03133494e-01\n",
      "  3.70681666e-01 8.91618648e-01 5.99136706e-02 4.91049144e-01\n",
      "  1.83374436e-01 2.49170222e-01 9.98287382e-01 9.75039823e-01\n",
      "  2.84915236e-01 5.19230471e-01]]\n",
      "N: 50\n",
      "T: 10\n"
     ]
    }
   ],
   "source": [
    "npzfile = np.load('lancio_3_alte_dim_param.npz')\n",
    "print(\"A_0:\\n\",npzfile['arr_0'])\n",
    "print(\"C_0:\\n\",npzfile['arr_1'])\n",
    "print(\"n_time:\",npzfile['arr_2'])\n",
    "print(\"phi:\\n\",npzfile['arr_3'])\n",
    "print(\"beta:\",npzfile['arr_4'])\n",
    "print(\"W:\\n\",npzfile['arr_5'])\n",
    "print(\"N:\",npzfile['arr_6'])\n",
    "print(\"T:\",npzfile['arr_7'])"
   ]
  },
  {
   "cell_type": "code",
   "execution_count": null,
   "id": "bae10a5a",
   "metadata": {},
   "outputs": [],
   "source": []
  },
  {
   "cell_type": "markdown",
   "id": "cd6a3abf",
   "metadata": {},
   "source": [
    "8.PLOT"
   ]
  },
  {
   "cell_type": "markdown",
   "id": "6e98db60",
   "metadata": {},
   "source": [
    "8.1 GRADO MEDIO"
   ]
  },
  {
   "cell_type": "code",
   "execution_count": 30,
   "id": "7e74b936",
   "metadata": {},
   "outputs": [
    {
     "name": "stdout",
     "output_type": "stream",
     "text": [
      "dim t: (500,)\n",
      "dim A_t_load: (500, 50, 50)\n",
      "dim A_t_load{0}: (50, 50)\n",
      "(500,)\n",
      "()\n"
     ]
    },
    {
     "data": {
      "image/png": "[encoded data removed]",
      "text/plain": [
       "<Figure size 640x480 with 1 Axes>"
      ]
     },
     "metadata": {},
     "output_type": "display_data"
    }
   ],
   "source": [
    "import matplotlib.pyplot as plt\n",
    "\n",
    "n_time = 500\n",
    "t = np.arange(0,n_time,1)\n",
    "print(\"dim t:\",np.shape(t))\n",
    "print(\"dim A_t_load:\",np.shape(A_t_load))\n",
    "print(\"dim A_t_load{0}:\",np.shape(A_t_load[0]))\n",
    "\n",
    "\n",
    " #devo calcolare il grado medio a ogni step temporale data la matrice di adiacenza():                 n\n",
    "    #il grado medio è la somma dei gradi dei singoli nodi / n , con n = numero totale nodi : c= 1/n * ∑ k_i\n",
    "    #    k_i = grado nodo i                                                                          i=1\n",
    "\n",
    "\n",
    "#///////////////////////////////////////////////////////////////////////////////\n",
    "def grado_medio(A):\n",
    "    \n",
    "    N=int(A.shape[0])\n",
    "    grado_medio = 0\n",
    "    elem = 0\n",
    "    for i in range(N):\n",
    "        for j in range(N):\n",
    "            elem = elem + A[i][j] #così sommo tutti gli elementi di matrice quindi poi va diviso per 2\n",
    "    grado_medio = 1 / N * (elem/2)\n",
    "    return grado_medio\n",
    "            \n",
    "\n",
    "gradi_medi = []   #gradi medi a ogni step\n",
    "for t_i in range(n_time):\n",
    "    elem = grado_medio(A_t_load[t_i])\n",
    "    gradi_medi.append(elem)\n",
    "   \n",
    "    \n",
    "print(np.shape(t))\n",
    "print(np.shape(elem) )\n",
    "\n",
    "plt.scatter(t,gradi_medi)\n",
    "plt.xticks(range(0,n_time+1,50))\n",
    "plt.xlim(xmin=-10)\n",
    "plt.xlim(xmax=510)\n",
    "plt.ylim(ymin=2.3)\n",
    "plt.xlabel('tempo')\n",
    "plt.ylabel('grado_medio[t]')\n",
    "plt.title('evoluzione caratteristica singola nel tempo')\n",
    "#plt.savefig(\"grado_medio.png\")\n",
    "plt.show()\n",
    "\n",
    "np.save('grado_medio',gradi_medi)\n",
    "np.save('grado_medio_tempi',t)\n",
    "#//////////////////////////////////////////////////////////////////////////////////////////////"
   ]
  },
  {
   "cell_type": "markdown",
   "id": "376bd8e1",
   "metadata": {},
   "source": [
    "8.2 CENTRALITA' DI GRADO"
   ]
  },
  {
   "cell_type": "code",
   "execution_count": 31,
   "id": "e018cbea",
   "metadata": {},
   "outputs": [
    {
     "name": "stdout",
     "output_type": "stream",
     "text": [
      "(500,)\n",
      "()\n"
     ]
    },
    {
     "data": {
      "image/png": "[encoded data removed]",
      "text/plain": [
       "<Figure size 2000x2000 with 1 Axes>"
      ]
     },
     "metadata": {},
     "output_type": "display_data"
    }
   ],
   "source": [
    "#/////////////////////////////////////////////////////////////////////////////////////\n",
    "\n",
    "# la centralità di grado del nodo i è definita come:\n",
    "\n",
    "#       n\n",
    "# k_i = ∑ A_ij\n",
    "#      j=1\n",
    "\n",
    "def centralità_di_grado(A,i):\n",
    "    j=0\n",
    "    centr_grado = 0\n",
    "    N =int(A.shape[0])\n",
    "    \n",
    "    for j in range(N):\n",
    "        centr_grado = centr_grado + A[i][j]\n",
    "    return centr_grado\n",
    "\n",
    "centr_grado = []   #centralità di grado a ogni step\n",
    "i = 4 #devo scegliere un nodo per vedere come varia la centralità di grado a ogni step\n",
    "n_time = 500\n",
    "for t_i in range(n_time):\n",
    "    elem = centralità_di_grado(A_t_load[t_i],i)\n",
    "    centr_grado.append(elem)\n",
    "   \n",
    "    \n",
    "print(np.shape(t))\n",
    "print(np.shape(elem) )\n",
    "\n",
    "plt.figure(figsize =(20,20))\n",
    "plt.scatter(t,centr_grado)\n",
    "plt.xticks(range(0,n_time,50))\n",
    "plt.xlim(xmin=-10)\n",
    "plt.xlim(xmax=500)\n",
    "plt.ylim(ymin=2.3)\n",
    "plt.ylim(ymax=11)\n",
    "plt.xlabel('tempo')\n",
    "plt.ylabel('centralità_grado_nodo_4[t]')\n",
    "plt.title('evoluzione caratteristica singola nel tempo')\n",
    "#plt.savefig(\"centralità_grado_nodo_4.png\")\n",
    "plt.show()\n",
    "\n",
    "np.save('centralità_grado',centr_grado)\n",
    "np.save('centralita_grado_tempi',t)\n",
    "#//////////////////////////////////////////////////////////////////////////////////////////////"
   ]
  },
  {
   "cell_type": "markdown",
   "id": "30c961b5",
   "metadata": {},
   "source": [
    "8.3 DISTRIBUZIONE DI GRADO"
   ]
  },
  {
   "cell_type": "code",
   "execution_count": 29,
   "id": "22dfea28",
   "metadata": {
    "scrolled": true
   },
   "outputs": [
    {
     "name": "stdout",
     "output_type": "stream",
     "text": [
      "<class 'numpy.ndarray'>\n",
      "lista_gradi_per_nodo: [10, 9, 9, 7, 7, 6, 6, 6, 6, 6, 6, 6, 6, 6, 6, 6, 6, 5, 5, 5, 5, 5, 5, 5, 5, 5, 5, 5, 5, 5, 5, 5, 5, 4, 4, 4, 4, 4, 4, 4, 4, 4, 3, 3, 3, 3, 3, 3, 3, 3]\n",
      "massimo grado: 10\n",
      "massimo numero di nodi per grado: 16.0\n",
      "numero di nodi per grado: [ 0.  0.  0.  8.  9. 16. 12.  2.  0.  2.  1.]\n",
      "lunghezza lista gradi: 11\n"
     ]
    },
    {
     "data": {
      "image/png": "[encoded data removed]",
      "text/plain": [
       "<Figure size 2000x2000 with 1 Axes>"
      ]
     },
     "metadata": {},
     "output_type": "display_data"
    }
   ],
   "source": [
    "import matplotlib.pyplot as plt\n",
    "\n",
    "#G = nx.from_numpy_matrix(A) per riottenere il grafo a partire dalla matrice di adiacenza\n",
    "print(type(A_t_load[0]))\n",
    "\n",
    "\n",
    "def lista_nodi_per_grado(A_t,t): #distribuzione di grado al tempo t fissato\n",
    "    \n",
    "    lista_gradi = []\n",
    "    G = nx.from_numpy_array(A_t[t]) #riconverto la matrice di adiacenza nel grafo \n",
    "    lista_gradi = sorted((d for n, d in G.degree()),reverse = True) #grado di ciascun nodo\n",
    "    print(\"lista_gradi_per_nodo:\",lista_gradi)\n",
    "    \n",
    "    massimo = max(lista_gradi) #massimo grado del grafo\n",
    "    print(\"massimo grado:\",massimo)\n",
    "    lunghezza = len(lista_gradi)\n",
    "    i=0\n",
    "    j=0\n",
    "    numero_nodi_per_grado = np.zeros(massimo + 1) #considero anche grado zero\n",
    "    \n",
    "    for i in range(massimo +1): #considero tutti i gradi fino al grado massimo a partire da zero con i\n",
    "        \n",
    "        for j in range(lunghezza): #scorro tutti gli elementi di  \"lista_gradi\" con j\n",
    "            \n",
    "            if( lista_gradi[j] == i): #se il valore del grado è pari a i lo salvo, così gli elementi di lista numero_nodi_per_grado, saranno ordinati dal grado più basso a quello più alto\n",
    "                \n",
    "                \n",
    "                numero_nodi_per_grado[i] = numero_nodi_per_grado[i] + 1 \n",
    "                \n",
    "    return  numero_nodi_per_grado # numero di nodi per ciascun grado, da 0 a grado massimo del grafo (ordinato in modo crescente)\n",
    "\n",
    "            \n",
    "\n",
    "t = 4\n",
    "\n",
    "\n",
    "lista_gradi_output =  lista_nodi_per_grado(A_t_load,t) #numero di nodi per ciascun grado ordinato in ordine crescente da grado zero a grado massimo\n",
    "massimo = max(lista_gradi_output)\n",
    "print(\"massimo numero di nodi per grado:\",massimo)\n",
    "lunghezza = len(lista_gradi_output)\n",
    "gradi = np.arange(0,lunghezza,1) # lista dei gradi : tutti numeri da zero a grado massimo\n",
    "\n",
    "#il plot sarà gradi - lista_gradi_output\n",
    "\n",
    "\n",
    "print(\"numero di nodi per grado:\",lista_gradi_output)\n",
    "print(\"lunghezza lista gradi:\",lunghezza)\n",
    "\n",
    "\n",
    "\n",
    "plt.figure(figsize =(20,20))\n",
    "plt.plot(gradi,lista_gradi_output)\n",
    "plt.xticks(range(0,lunghezza,1))\n",
    "plt.xlim(xmin=0)\n",
    "plt.xlim(xmax= massimo +1)\n",
    "plt.ylim(ymin=0)\n",
    "plt.ylim(ymax= massimo +1)\n",
    "plt.xlabel('grado nodi')\n",
    "plt.ylabel('numero nodi')\n",
    "plt.title('distribuzione di grado a tempo fissato ')\n",
    "np.save('gradi',gradi)\n",
    "np.save('numero_nodi_per_grado',lista_gradi_output)\n",
    "#plt.savefig(\"distribuzione_grado_t=4.png\")\n",
    "plt.show()  \n",
    "  "
   ]
  },
  {
   "cell_type": "code",
   "execution_count": null,
   "id": "91fccb16",
   "metadata": {},
   "outputs": [],
   "source": [
    "#///////////////////////////////////////////////////////////////////////////////////////////////////////////////////////////"
   ]
  },
  {
   "cell_type": "markdown",
   "id": "6923136d",
   "metadata": {},
   "source": [
    "8.4 BETWEENESS CENTRALITY"
   ]
  },
  {
   "cell_type": "code",
   "execution_count": 33,
   "id": "d1a33be7",
   "metadata": {},
   "outputs": [
    {
     "name": "stdout",
     "output_type": "stream",
     "text": [
      "(500, 50, 50)\n"
     ]
    },
    {
     "data": {
      "image/png": "[encoded data removed]",
      "text/plain": [
       "<Figure size 2000x2000 with 1 Axes>"
      ]
     },
     "metadata": {},
     "output_type": "display_data"
    }
   ],
   "source": [
    "import matplotlib.pyplot as plt\n",
    "\n",
    "#G = nx.from_numpy_matrix(A) per riottenere il grafo a partire dalla matrice di adiacenza\n",
    "print(np.shape(A_t_load))\n",
    "def betweeness_nodi(A,i,t):  #betweeness nodo i\n",
    "    \n",
    "    G = nx.from_numpy_array(A)\n",
    "    betweeness = {}\n",
    "    \n",
    "    betweeness = nx.betweenness_centrality(G, k=None, normalized=True, weight=None, endpoints=False, seed=None) #chiave = nodo, valore = betweeness (per tutti nodi)\n",
    "    valori = list(betweeness.values())\n",
    "    elem = valori[i]\n",
    "    #print(\"step\",t,\":\",elem)\n",
    "    return elem\n",
    "\n",
    "n_time = 500\n",
    "betweeness_output = []\n",
    "i = 4 #nodo fissato\n",
    "\n",
    "for t in range(n_time):\n",
    "    elem = betweeness_nodi(A_t_load[t],i,t)\n",
    "    betweeness_output.append(elem)\n",
    "    \n",
    "#print(\"betweeness nodo i a tutti tempi:\",betweeness_output)\n",
    "\n",
    "#devo plottare la lista betweeness_output nel tempo:\n",
    "\n",
    "n_time = 500\n",
    "t = np.arange(0,n_time,1)\n",
    "lunghezza = len(t)\n",
    "\n",
    "\n",
    "plt.figure(figsize =(20,20))\n",
    "plt.scatter(t, betweeness_output)\n",
    "plt.xticks(range(0,lunghezza,50))\n",
    "plt.xlim(xmin=-5)\n",
    "plt.xlim(xmax= lunghezza +5)\n",
    "plt.ylim(ymin=0)\n",
    "plt.ylim(ymax= 0.2)\n",
    "plt.xlabel('tempo')\n",
    "plt.ylabel('betweeness nodo i')\n",
    "plt.title('evoluzione betweeness nodo i nel tempo ')\n",
    "#plt.savefig(\"betweeness nodo 4.png\")\n",
    "plt.show()  \n",
    "\n",
    "np.save('betweeness',betweeness_output)\n",
    "np.save('betweeness_tempi',t)"
   ]
  },
  {
   "cell_type": "code",
   "execution_count": null,
   "id": "c32d3bac",
   "metadata": {},
   "outputs": [],
   "source": [
    "#FINE PROGRAMMA"
   ]
  },
  {
   "cell_type": "code",
   "execution_count": null,
   "id": "019ce819",
   "metadata": {},
   "outputs": [],
   "source": [
    "#///////////////////////////////////////////////////////////////////////////////////////////////////////////////////////"
   ]
  },
  {
   "cell_type": "code",
   "execution_count": null,
   "id": "0fc37145",
   "metadata": {},
   "outputs": [],
   "source": []
  },
  {
   "cell_type": "code",
   "execution_count": null,
   "id": "5ed5e805",
   "metadata": {},
   "outputs": [],
   "source": []
  },
  {
   "cell_type": "code",
   "execution_count": null,
   "id": "97274cc3",
   "metadata": {},
   "outputs": [],
   "source": [
    "#domande sull' output:\n",
    "\n",
    "\n",
    "\"\"\"\n",
    "Errore: fino a N = 4, T=4 funziona, poi da come errore:\n",
    "\n",
    "IOPub data rate exceeded.\n",
    "The notebook server will temporarily stop sending output\n",
    "to the client in order to avoid crashing it.\n",
    "To change this limit, set the config variable\n",
    "`--NotebookApp.iopub_data_rate_limit`.\n",
    "\n",
    "Current values:\n",
    "NotebookApp.iopub_data_rate_limit=1000000.0 (bytes/sec)\n",
    "NotebookApp.rate_limit_window=3.0 (secs)\n",
    "\n",
    "\"\"\"\n",
    "\n",
    "#NB: il numero di link tende sempre ad aumentare e mai a diminuire mi sembra???\n",
    "#NB: anche per valori delle caratteristiche negative mi sputa output\n",
    "\n",
    "#risolto andando su : C:\\Users\\gianm\\.jupyter->jupyter_notebook_config e modificato il valore c.NotebookApp.iopub_data_rate_limit = 10000000"
   ]
  }
 ],
 "metadata": {
  "kernelspec": {
   "display_name": "Python 3 (ipykernel)",
   "language": "python",
   "name": "python3"
  },
  "language_info": {
   "codemirror_mode": {
    "name": "ipython",
    "version": 3
   },
   "file_extension": ".py",
   "mimetype": "text/x-python",
   "name": "python",
   "nbconvert_exporter": "python",
   "pygments_lexer": "ipython3",
   "version": "3.11.4"
  }
 },
 "nbformat": 4,
 "nbformat_minor": 5
}
