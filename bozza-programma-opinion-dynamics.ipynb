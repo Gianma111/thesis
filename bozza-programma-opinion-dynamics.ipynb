{
 "cells": [
  {
   "cell_type": "code",
   "execution_count": 1,
   "id": "2af8f8ef",
   "metadata": {},
   "outputs": [
    {
     "data": {
      "text/plain": [
       "'\\nIn questo programma provo ad iniziare l\\' implementazione del modello di opinion dynamics descritto nei files\\nall\\' interno della cartella \"tesi -> opinion dynamics -> bozza-modello-opinion-dynamics\".'"
      ]
     },
     "execution_count": 1,
     "metadata": {},
     "output_type": "execute_result"
    }
   ],
   "source": [
    "\"\"\"\n",
    "In questo programma provo ad iniziare l' implementazione del modello di opinion dynamics descritto nei files\n",
    "all' interno della cartella \"tesi -> opinion dynamics -> bozza-modello-opinion-dynamics\".\"\"\""
   ]
  },
  {
   "cell_type": "markdown",
   "id": "ed5348cf",
   "metadata": {},
   "source": [
    "PARTE 1) DINAMICA DELLE CARATTERISTICHE A MATRICE DI ADIACENZA COSTANTE"
   ]
  },
  {
   "cell_type": "markdown",
   "id": "a6134ed0",
   "metadata": {},
   "source": [
    "1. IMPORTO LIBRERIE NECESSARIE"
   ]
  },
  {
   "cell_type": "code",
   "execution_count": 2,
   "id": "0ca46279",
   "metadata": {},
   "outputs": [
    {
     "data": {
      "text/plain": [
       "\"\\nImporto nel file le librerie e il file con dentro le funzioni ausiliarie che che ho implementato io per poterle usare all' occorrenza.\\n\""
      ]
     },
     "execution_count": 2,
     "metadata": {},
     "output_type": "execute_result"
    }
   ],
   "source": [
    "\"\"\"\n",
    "Importo nel file le librerie e il file con dentro le funzioni ausiliarie che che ho implementato io per poterle usare all' occorrenza.\n",
    "\"\"\""
   ]
  },
  {
   "cell_type": "code",
   "execution_count": 3,
   "id": "02d31772",
   "metadata": {},
   "outputs": [],
   "source": [
    "import networkx as nx\n",
    "import numpy as np\n",
    "from funzioni_utili import* #importo tutte le funzioni implementate e salvate nell' altro file\n",
    "import random\n",
    "from eq_differenziale_mio_modello_opinion_dynamics import* #importo tutte le funzioni implementate e salvate nell' altro file\n"
   ]
  },
  {
   "cell_type": "markdown",
   "id": "e2959536",
   "metadata": {},
   "source": [
    "PARTE 1_a)INIZIO PROVANDO A LANCIARE IL CASO BASE"
   ]
  },
  {
   "cell_type": "markdown",
   "id": "60475358",
   "metadata": {},
   "source": [
    "2.DEFINIZIONE PARAMETRI"
   ]
  },
  {
   "cell_type": "code",
   "execution_count": 4,
   "id": "c9ba2f66",
   "metadata": {},
   "outputs": [
    {
     "data": {
      "text/plain": [
       "'\\nDefinizione delle costanti o valori iniziali delle variabili che verranno utilizzate nel modello.\\n\\n'"
      ]
     },
     "execution_count": 4,
     "metadata": {},
     "output_type": "execute_result"
    }
   ],
   "source": [
    "\"\"\"\n",
    "Definizione delle costanti o valori iniziali delle variabili che verranno utilizzate nel modello.\n",
    "\n",
    "\"\"\""
   ]
  },
  {
   "cell_type": "code",
   "execution_count": 5,
   "id": "7e398e8a",
   "metadata": {},
   "outputs": [],
   "source": [
    "N = 2 #numero di nodi\n",
    "T = 2 #numero di topic\n",
    "K=3\n",
    "beta=3\n",
    "alpha=1\n",
    "\n",
    "h=1 #step integrazione per metodo runge-kutta\n",
    "n_time=10 #numero iterazioni"
   ]
  },
  {
   "cell_type": "markdown",
   "id": "6bce1cfb",
   "metadata": {},
   "source": [
    "3.DEFINIZIONE DELLA RETE "
   ]
  },
  {
   "cell_type": "code",
   "execution_count": 6,
   "id": "a1dc6c58",
   "metadata": {},
   "outputs": [
    {
     "data": {
      "text/plain": [
       "'\\nIntroduco una rete Networkx (grafo), calcolando anche la matrice di adiacenza, in formato numpy. Per ora introduco \\nsolo un grafo vuoto dal momento che la probabilità di avere un link tra due nodi dipenderà dalle \\ncaratteristiche dei nodi.\\n\\n'"
      ]
     },
     "execution_count": 6,
     "metadata": {},
     "output_type": "execute_result"
    }
   ],
   "source": [
    "\"\"\"\n",
    "Introduco una rete Networkx (grafo), calcolando anche la matrice di adiacenza, in formato numpy. Per ora introduco \n",
    "solo un grafo vuoto dal momento che la probabilità di avere un link tra due nodi dipenderà dalle \n",
    "caratteristiche dei nodi.\n",
    "\n",
    "\"\"\""
   ]
  },
  {
   "cell_type": "code",
   "execution_count": 7,
   "id": "720dd60b",
   "metadata": {},
   "outputs": [
    {
     "data": {
      "text/plain": [
       "'\\n#esempio calcolo della matrice di adiacenza in formato numpy\\np = 0.6 # per ora così, dopo da definire con funzione, probabilità di avere link tra 2 nodi\\nG = nx.erdos_renyi_graph(N,p)  #faccio per fare un esempio\\nA = nx.adjacency_matrix(G).todense() #mi restituisce direttamente la matrice di adiacenza in formato numpy per poterla gestire meglio\\nprint(\"tipo:\",type(A))\\nprint(\"matrice di adiacenza:\\n\",A)\\n'"
      ]
     },
     "execution_count": 7,
     "metadata": {},
     "output_type": "execute_result"
    }
   ],
   "source": [
    "\"\"\"\n",
    "#esempio calcolo della matrice di adiacenza in formato numpy\n",
    "p = 0.6 # per ora così, dopo da definire con funzione, probabilità di avere link tra 2 nodi\n",
    "G = nx.erdos_renyi_graph(N,p)  #faccio per fare un esempio\n",
    "A = nx.adjacency_matrix(G).todense() #mi restituisce direttamente la matrice di adiacenza in formato numpy per poterla gestire meglio\n",
    "print(\"tipo:\",type(A))\n",
    "print(\"matrice di adiacenza:\\n\",A)\n",
    "\"\"\""
   ]
  },
  {
   "cell_type": "code",
   "execution_count": 8,
   "id": "a088f178",
   "metadata": {},
   "outputs": [
    {
     "name": "stdout",
     "output_type": "stream",
     "text": [
      "nodi: [0, 1]\n",
      "link: []\n"
     ]
    }
   ],
   "source": [
    "#UFFICIALE\n",
    "G = nx.empty_graph(N) #introduco grafo vuoto con N nodi\n",
    "print(\"nodi:\",G.nodes())\n",
    "print(\"link:\",G.edges())"
   ]
  },
  {
   "cell_type": "markdown",
   "id": "2de4c26a",
   "metadata": {},
   "source": [
    "4.INIZIALIZZAZIONE DI TUTTE LE MATRICI NECESSARIE PER IL MODELLO"
   ]
  },
  {
   "cell_type": "code",
   "execution_count": 9,
   "id": "69fd4c9b",
   "metadata": {},
   "outputs": [
    {
     "data": {
      "text/plain": [
       "'\\n\\nLe matrici necessarie per il modello sono:\\n1) la matrice di adiacenza A\\n2) la matrice delle caratteristiche C\\n3) la matrice dei pesi delle caratteristiche W\\n4) la matrice dei coseni phi\\n\\n'"
      ]
     },
     "execution_count": 9,
     "metadata": {},
     "output_type": "execute_result"
    }
   ],
   "source": [
    "\"\"\"\n",
    "\n",
    "Le matrici necessarie per il modello sono:\n",
    "1) la matrice di adiacenza A\n",
    "2) la matrice delle caratteristiche C\n",
    "3) la matrice dei pesi delle caratteristiche W\n",
    "4) la matrice dei coseni phi\n",
    "\n",
    "\"\"\""
   ]
  },
  {
   "cell_type": "code",
   "execution_count": 10,
   "id": "8ef1d5f4",
   "metadata": {},
   "outputs": [],
   "source": [
    "C = np.zeros((T,N))\n",
    "W = np.zeros((T,N))\n",
    "phi = np.zeros((T,T))\n",
    "A=np.zeros((N,N))"
   ]
  },
  {
   "cell_type": "code",
   "execution_count": 11,
   "id": "3977424b",
   "metadata": {},
   "outputs": [],
   "source": [
    "#occorre ora definire queste matrici utilizzando le funzioni che ho creato, devo ragionare su come fare e come metterle insieme:\n",
    "#NB: può essere utile ragionare sul foglio creato a mano delle funzioni incluse nella libreria creata da me \"funzioni_utili\" (fatto)"
   ]
  },
  {
   "cell_type": "code",
   "execution_count": 12,
   "id": "fefd23d7",
   "metadata": {},
   "outputs": [
    {
     "data": {
      "text/plain": [
       "'\\n#ESEMPIO UTILIZZO FUNZIONE IMPORTATA DALLA MIA LIBRERIA\\n\\nx = [1,1,1]\\ny = [1,0,1]\\nN = 3\\ncos = coseno_angolo_tra_vettori(x,y,N) #la libreria con le mie funzioni è già stata importata (from funzioni_utili import*)\\nprint(cos)\\n\\n'"
      ]
     },
     "execution_count": 12,
     "metadata": {},
     "output_type": "execute_result"
    }
   ],
   "source": [
    "\"\"\"\n",
    "#ESEMPIO UTILIZZO FUNZIONE IMPORTATA DALLA MIA LIBRERIA\n",
    "\n",
    "x = [1,1,1]\n",
    "y = [1,0,1]\n",
    "N = 3\n",
    "cos = coseno_angolo_tra_vettori(x,y,N) #la libreria con le mie funzioni è già stata importata (from funzioni_utili import*)\n",
    "print(cos)\n",
    "\n",
    "\"\"\""
   ]
  },
  {
   "cell_type": "markdown",
   "id": "d85781a9",
   "metadata": {},
   "source": [
    "\n",
    "4a) INIZIALIZZO MATRICE DELLE CARATTERISTICHE"
   ]
  },
  {
   "cell_type": "code",
   "execution_count": 13,
   "id": "e1126406",
   "metadata": {},
   "outputs": [
    {
     "name": "stdout",
     "output_type": "stream",
     "text": [
      "righe: 2\n",
      "colonne: 2\n",
      "i= 0 j= 0\n",
      "i= 0 j= 1\n",
      "i= 1 j= 0\n",
      "i= 1 j= 1\n",
      "matrice caratteristiche:\n",
      " [[9. 8.]\n",
      " [8. 3.]]\n",
      "tipo:\n",
      " <class 'numpy.ndarray'>\n"
     ]
    }
   ],
   "source": [
    "#partiamo a inizializzare la matrice delle caratteristiche in maniera random, con valori delle caratteristiche da 0 a 10(le caratteristiche possono assumere qualsiasi valore):\n",
    "\n",
    "C_0= inizializzazione_matrice_caratteristiche(C) #ok\n",
    "print(\"matrice caratteristiche:\\n\",C_0)\n",
    "print(\"tipo:\\n\",type(C_0))"
   ]
  },
  {
   "cell_type": "markdown",
   "id": "92058c8c",
   "metadata": {},
   "source": [
    "4b)INIZIALIZZO MATRICE DEI PESI"
   ]
  },
  {
   "cell_type": "code",
   "execution_count": 14,
   "id": "75a02407",
   "metadata": {},
   "outputs": [
    {
     "name": "stdout",
     "output_type": "stream",
     "text": [
      "matrice dei pesi:\n",
      " [[0.5 0.5]\n",
      " [0.5 0.5]]\n",
      "tipo: <class 'numpy.ndarray'>\n",
      "somma 0 : 1.0\n",
      "somma 1 : 1.0\n",
      "controllo ok\n"
     ]
    }
   ],
   "source": [
    "#ora va inizializzata la matrice dei pesi: la somma degli elementi di ciascuna riga deve fare 1\n",
    "\n",
    "#esempio:\n",
    "W = np.array([[0.5,0.5],[0.5,0.5]]) #ok\n",
    "print(\"matrice dei pesi:\\n\",W)\n",
    "print(\"tipo:\",type(W))\n",
    "controllo_matrice_pesi(W)      #ok"
   ]
  },
  {
   "cell_type": "markdown",
   "id": "62e78c2d",
   "metadata": {},
   "source": [
    "4c)INIZIALIZZO  MATRICE DEI COSENI"
   ]
  },
  {
   "cell_type": "code",
   "execution_count": 15,
   "id": "9196b6e9",
   "metadata": {},
   "outputs": [
    {
     "name": "stdout",
     "output_type": "stream",
     "text": [
      "phi:\n",
      " [[1 0]\n",
      " [0 1]]\n",
      "dimensioni:\n",
      " 2\n"
     ]
    }
   ],
   "source": [
    "#matrice coseni fissata -> nel caso base è l' identità\n",
    "\n",
    "phi = np.array([[1,0],[0,1]]) \n",
    "\n",
    "\n",
    "print(\"phi:\\n\",phi)\n",
    "print(\"dimensioni:\\n\",C.shape[0])\n",
    "\n",
    "    "
   ]
  },
  {
   "cell_type": "markdown",
   "id": "da591f67",
   "metadata": {},
   "source": [
    "4d) INIZIALIZZO LA MATRICE DI ADIACENZA"
   ]
  },
  {
   "cell_type": "code",
   "execution_count": 16,
   "id": "9d3660ff",
   "metadata": {},
   "outputs": [
    {
     "name": "stdout",
     "output_type": "stream",
     "text": [
      "matrice di adiacenza:\n",
      " [[0 1]\n",
      " [1 0]]\n"
     ]
    }
   ],
   "source": [
    "#inizializzo una matrice di adiacenza dove tutti i nodi sono collegati\n",
    "\n",
    "A=np.array([[0,1],[1,0]])\n",
    "\n",
    "print(\"matrice di adiacenza:\\n\",A)"
   ]
  },
  {
   "cell_type": "markdown",
   "id": "6209e5bf",
   "metadata": {},
   "source": [
    "5.CALCOLO MATRICE DELLE CARATTERISTICHE A TUTTI I TEMPI"
   ]
  },
  {
   "cell_type": "code",
   "execution_count": 39,
   "id": "6263b71e",
   "metadata": {},
   "outputs": [],
   "source": [
    "#lancio delle funzioni che mi calcolano la matrice delle caratteristiche a tutti i tempi a matrice di adiacenza fissa\n"
   ]
  },
  {
   "cell_type": "markdown",
   "id": "e8cbcd35",
   "metadata": {},
   "source": [
    "5_a) definisco i vettori di matrici su cui salvare il risultato"
   ]
  },
  {
   "cell_type": "code",
   "execution_count": 40,
   "id": "44898938",
   "metadata": {},
   "outputs": [],
   "source": [
    " C_t = np.zeros((n_time,T,N))"
   ]
  },
  {
   "cell_type": "markdown",
   "id": "2609fb51",
   "metadata": {},
   "source": [
    "5_b) richiamo la funzione finale \"integrate\" che mi sputa il risultato"
   ]
  },
  {
   "cell_type": "code",
   "execution_count": 41,
   "id": "a5b4cfe4",
   "metadata": {},
   "outputs": [
    {
     "name": "stdout",
     "output_type": "stream",
     "text": [
      "matrice delle caratteristiche a tutti i tempi:\n",
      " [[[ 8.00000000e+00  3.00000000e+00]\n",
      "  [ 5.00000000e+00  6.00000000e+00]]\n",
      "\n",
      " [[-3.30326015e+00 -2.57861055e-02]\n",
      "  [-1.29639731e+00 -1.94455910e+00]]\n",
      "\n",
      " [[ 1.09932230e+00 -1.18833019e+00]\n",
      "  [-5.68131071e-01 -1.00057107e-01]]\n",
      "\n",
      " [[-6.22712102e-01  6.13449467e-01]\n",
      "  [-9.02132863e-02 -2.89725903e-01]]\n",
      "\n",
      " [[ 2.71083241e-01 -2.74602287e-01]\n",
      "  [-1.56682065e-01 -8.14120399e-02]]\n",
      "\n",
      " [[-1.03003467e-01  1.00964848e-01]\n",
      "  [-6.28395765e-02 -9.00345837e-02]]\n",
      "\n",
      " [[ 3.55388618e-02 -3.68396526e-02]\n",
      "  [-5.42269812e-02 -4.45591864e-02]]\n",
      "\n",
      " [[-1.31587922e-02  1.23170260e-02]\n",
      "  [-3.02772835e-02 -3.36919105e-02]]\n",
      "\n",
      " [[ 4.20598493e-03 -4.75167993e-03]\n",
      "  [-2.13297451e-02 -2.01269549e-02]]\n",
      "\n",
      " [[-1.75153746e-03  1.39769941e-03]\n",
      "  [-1.32262815e-02 -1.36494829e-02]]]\n"
     ]
    }
   ],
   "source": [
    "C_t = integrate(dy,C_0,A,phi,alpha,h,K,W,n_time)\n",
    "print(\"matrice delle caratteristiche a tutti i tempi:\\n\",C_t)"
   ]
  },
  {
   "cell_type": "code",
   "execution_count": null,
   "id": "bb4b6854",
   "metadata": {},
   "outputs": [],
   "source": []
  }
 ],
 "metadata": {
  "kernelspec": {
   "display_name": "Python 3 (ipykernel)",
   "language": "python",
   "name": "python3"
  },
  "language_info": {
   "codemirror_mode": {
    "name": "ipython",
    "version": 3
   },
   "file_extension": ".py",
   "mimetype": "text/x-python",
   "name": "python",
   "nbconvert_exporter": "python",
   "pygments_lexer": "ipython3",
   "version": "3.11.4"
  }
 },
 "nbformat": 4,
 "nbformat_minor": 5
}
