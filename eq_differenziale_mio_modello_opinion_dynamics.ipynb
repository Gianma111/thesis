{
 "cells": [
  {
   "cell_type": "code",
   "execution_count": 1,
   "id": "092af433",
   "metadata": {},
   "outputs": [],
   "source": [
    "import numpy as np\n",
    "import matplotlib.pyplot as plt\n",
    "from scipy.integrate import solve_ivp\n",
    "from funzioni_utili import*"
   ]
  },
  {
   "cell_type": "code",
   "execution_count": 2,
   "id": "328f707a",
   "metadata": {},
   "outputs": [
    {
     "data": {
      "text/plain": [
       "\"\\nFile dove implemento l' eq 1 pag 3 del paper 10 che descrive l' eq differenziale di come varia nel tempo il\\nvettore opinione di ciascun nodo i. \\n\\n\""
      ]
     },
     "execution_count": 2,
     "metadata": {},
     "output_type": "execute_result"
    }
   ],
   "source": [
    "\"\"\"\n",
    "File dove implemento l' eq 1 pag 3 del paper 10 che descrive l' eq differenziale di come varia nel tempo il\n",
    "vettore opinione di ciascun nodo i. \n",
    "\n",
    "\"\"\""
   ]
  },
  {
   "cell_type": "markdown",
   "id": "f3ea5cc7",
   "metadata": {},
   "source": [
    "1_ Definizione parametri"
   ]
  },
  {
   "cell_type": "code",
   "execution_count": 3,
   "id": "63ebfa1d",
   "metadata": {},
   "outputs": [
    {
     "name": "stdout",
     "output_type": "stream",
     "text": [
      "DEFINIZIONE MATRICI E PARAMETRI\n",
      "\n",
      "PARAMETRI:\n",
      "\n",
      "N= 3 T= 2 alpha= 0.5 K= 2\n",
      "\n",
      "\n",
      "t_0= 0 t_f= 10 n_sample = 100 t_nsamples= 100\n",
      "\n",
      "\n",
      "t_space= [ 0.          0.1010101   0.2020202   0.3030303   0.4040404   0.50505051\n",
      "  0.60606061  0.70707071  0.80808081  0.90909091  1.01010101  1.11111111\n",
      "  1.21212121  1.31313131  1.41414141  1.51515152  1.61616162  1.71717172\n",
      "  1.81818182  1.91919192  2.02020202  2.12121212  2.22222222  2.32323232\n",
      "  2.42424242  2.52525253  2.62626263  2.72727273  2.82828283  2.92929293\n",
      "  3.03030303  3.13131313  3.23232323  3.33333333  3.43434343  3.53535354\n",
      "  3.63636364  3.73737374  3.83838384  3.93939394  4.04040404  4.14141414\n",
      "  4.24242424  4.34343434  4.44444444  4.54545455  4.64646465  4.74747475\n",
      "  4.84848485  4.94949495  5.05050505  5.15151515  5.25252525  5.35353535\n",
      "  5.45454545  5.55555556  5.65656566  5.75757576  5.85858586  5.95959596\n",
      "  6.06060606  6.16161616  6.26262626  6.36363636  6.46464646  6.56565657\n",
      "  6.66666667  6.76767677  6.86868687  6.96969697  7.07070707  7.17171717\n",
      "  7.27272727  7.37373737  7.47474747  7.57575758  7.67676768  7.77777778\n",
      "  7.87878788  7.97979798  8.08080808  8.18181818  8.28282828  8.38383838\n",
      "  8.48484848  8.58585859  8.68686869  8.78787879  8.88888889  8.98989899\n",
      "  9.09090909  9.19191919  9.29292929  9.39393939  9.49494949  9.5959596\n",
      "  9.6969697   9.7979798   9.8989899  10.        ] x_0= 0\n",
      "\n",
      "\n",
      "MATRICI:\n",
      "A= [[1 1 1]\n",
      " [1 0 0]\n",
      " [1 0 1]]\n",
      "dimensioni A: (3, 3)\n",
      "tipo A: <class 'numpy.ndarray'>\n",
      "\n",
      "\n",
      "W= [[0.1 0.5 0.4]\n",
      " [0.3 0.5 0.2]]\n",
      "dimensioni W: (2, 3)\n",
      "tipo W: <class 'numpy.ndarray'>\n",
      "\n",
      "\n",
      "C= [[1. 0. 1.]\n",
      " [2. 1. 1.]]\n",
      "dimensioni C: (2, 3)\n",
      "tipo C: <class 'numpy.ndarray'>\n",
      "\n",
      "\n",
      "phi= [[1, 0.2], [0.2, 1]]\n",
      "dimensioni phi: (2, 2)\n",
      "tipo phi: <class 'list'>\n",
      "\n",
      "\n"
     ]
    }
   ],
   "source": [
    "print(\"DEFINIZIONE MATRICI E PARAMETRI\\n\")\n",
    "print(\"PARAMETRI:\\n\")\n",
    "N=3 #nodi\n",
    "T=2 #topic\n",
    "alpha = 0.5 #costante\n",
    "K = 2 #costante\n",
    "print(\"N=\",N,\"T=\",T,\"alpha=\",alpha,\"K=\",K)\n",
    "print(\"\\n\")\n",
    "i = 0 # iteratore\n",
    "j = 0 # iteratore\n",
    "t_0 = 0 #tempi di integrazione\n",
    "t_f = 10\n",
    "t=0 #per la funzione\n",
    "n_samples = 100 #numero di punti\n",
    "t_nsamples = 100\n",
    "print(\"t_0=\",t_0,\"t_f=\",t_f,\"n_sample =\",n_samples,\"t_nsamples=\",t_nsamples)\n",
    "print(\"\\n\")\n",
    "t_space = np.linspace(t_0,t_f,t_nsamples)\n",
    "x_0 = 0 #punto iniziale\n",
    "print(\"t_space=\",t_space,\"x_0=\",x_0)\n",
    "method = 'RK45'  #metodo soluzione usato per approssimare eq differenziale\n",
    "\n",
    "print(\"\\n\")\n",
    "print(\"MATRICI:\")\n",
    "\n",
    "A = np.array([[1,1,1],[1,0,0],[1,0,1]]) #matrice di adiacenza(NB:posso sempre trasformare la matrice da adiacenza a numpy con funzione descritta sopra)\n",
    "#le quadre rappresentano le righe\n",
    "W=np.array([[0.1,0.5,0.4],[0.3,0.5,0.2]])\n",
    "C=np.array([[1,0,1],[2,1,1]],dtype = float)  #NB: i valori delle caratteristiche sono float!!!!\n",
    "print(\"A=\",A)\n",
    "print(\"dimensioni A:\",np.shape(A)) #matrice adiacenza\n",
    "print(\"tipo A:\",type(A))\n",
    "print(\"\\n\")\n",
    "print(\"W=\",W)\n",
    "print(\"dimensioni W:\",np.shape(W)) #matrice pesi\n",
    "print(\"tipo W:\",type(W))\n",
    "print(\"\\n\")\n",
    "print(\"C=\",C)\n",
    "print(\"dimensioni C:\",np.shape(C)) #matrice caratteristiche\n",
    "print(\"tipo C:\",type(C))\n",
    "print(\"\\n\")\n",
    "phi = [[1, 0.2], [0.2, 1]] \n",
    "\n",
    "print(\"phi=\",phi)\n",
    "print(\"dimensioni phi:\",np.shape(phi)) #matrice adiacenza\n",
    "print(\"tipo phi:\",type(phi))\n",
    "print(\"\\n\")\n"
   ]
  },
  {
   "cell_type": "markdown",
   "id": "7ddacf4e",
   "metadata": {},
   "source": [
    "2_DEFINIZIONE FUNZIONE PER EQ DIFFERENZIALE : CALCOLO 1 COMPONENTE FISSATA s PER UN VETTORE OPINIONE DI UN NODO i FISSATO AL TEMPO t FISSATO"
   ]
  },
  {
   "cell_type": "code",
   "execution_count": 4,
   "id": "b0dc6370",
   "metadata": {},
   "outputs": [],
   "source": [
    "#i = nodo = fissato\n",
    "#s = componente nodo = fissato\n",
    "#t = tempo = fissato (no array) "
   ]
  },
  {
   "cell_type": "code",
   "execution_count": 6,
   "id": "fb9c9390",
   "metadata": {},
   "outputs": [
    {
     "name": "stdout",
     "output_type": "stream",
     "text": [
      "*///////////////////////////////////////////////////////*\n",
      "\n",
      "\n",
      "LANCIO DI PROVA DELLA FUNZIONE:\n",
      "\n",
      "tipo output: <class 'float'>\n",
      "[valore finale elemento elemento di C (s, i ) := ( 1 , 1 )] = -0.3991258057046917\n",
      "\n",
      "\n",
      "*\\\\\\\\\\\\\\\\\\\\\\\\\\\\\\\\\\\\\\\\\\\\\\\\\\\\\\\\\\\\\\\\*\n",
      "\n",
      "\n",
      "MODIFICA MATRICE DELLE CARATTERISTICHE\n",
      "matrice delle caratteristiche modificata:\n",
      " [[ 1.          0.          1.        ]\n",
      " [ 2.         -0.39912581  1.        ]]\n"
     ]
    }
   ],
   "source": [
    "#implemento la funzione che mi sputa la variazione della variabile opinione del nodo i sul topic s (x_i)^s a tempo fissato\n",
    "#(componente s del vettore x_i , a tempo fissato con i e s fissati)\n",
    "\n",
    "alpha = 0.5 #costante\n",
    "K = 2 #costante\n",
    "A = np.array([[1,1,1],[1,0,0],[1,0,1]]) #matrice di adiacenza(NB:posso sempre trasformare la matrice da adiacenza a numpy con funzione descritta sopra)\n",
    "#le quadre rappresentano le righe ->costante\n",
    "W=np.array([[0.1,0.5,0.4],[0.3,0.5,0.2]]) #-> costante\n",
    "C=np.array([[1,0,1],[2,1,1]],dtype = float) # -> costante\n",
    "phi = [[1, 0.2], [0.2, 1]]  #-> costante\n",
    "i = 1 # fissato\n",
    "s = 1 #fissato\n",
    "t=0 # il tempo c è nella funzione ma non varia -> fissato\n",
    "print(\"*///////////////////////////////////////////////////////*\")\n",
    "\n",
    "#IMPLEMENTAZIONE FUNZIONE\n",
    "\n",
    "\n",
    "\n",
    "#/////////////////////////////////////////////////////////////////////////////////////////////////////////\n",
    "\n",
    "def dinamica_variabile_opinione(A, alpha, K, C,W,phi,i,s):\n",
    "    \n",
    "    # i = nodo che sto considerando(riga della matrice A da prendere e colonna della matrice caratteristica C) -> variabile ma fissato\n",
    "    #j = tutti gli altri nodi escluso quello considerato\n",
    "    #s = componente del vettore opinione che sto considerando (componenti del vettori phi*x*w da prendere) -> riga della matrice caratteristica -> variabile ma fissato\n",
    "    #x_j = vettore iniziale della matrice delle caratteristiche di cui faccio la dinamica(colonna i della matrice C)\n",
    "    #t = la funzione dipenderà dal tempo. Serve per eq differenziale e variando il tempo varieranno anche altri input come A,C,W,phi -> qui è a tempo costante\n",
    "    # A = matrice di adiacenza ->per ora costante\n",
    "    # alpha, K = costanti (numeri)\n",
    "    # C = matrice delle caratteristiche -> costante\n",
    "    #W = matrice dei pesi -> costante\n",
    "    #phi = matrice coseni -> costante\n",
    "    \n",
    "    \n",
    "    #0) definisco le variabili\n",
    "    \n",
    "    j=0\n",
    "    elem = 0   #elementi della sommatoria\n",
    "    prod1 = 0\n",
    "    prod2 = 0\n",
    "    w_j = [] #ci salviamo la colonna w_j della matrice dei pesi W\n",
    "    x_j = [] # ci salviamo la colonna j della matrice delle caratteristiche C\n",
    "    valore_finale_variazione_componente = 0 #valore finale della componente s del vettore caratteristica del nodo i\n",
    "    \n",
    "    #1) definisco le dimensioni delle matrici\n",
    "    \n",
    "    N = int(A.shape[1])\n",
    "    T = int(C.shape[0])\n",
    "    while( j < N ):  #mi indica la sommatoria\n",
    "        \n",
    "        if(j != i):\n",
    "            \n",
    "            #2)estraggo le colonne dalle matrici W e C \n",
    "            \n",
    "            w_j = estrai_colonna_matrice(W,N,T,j)\n",
    "            x_j = estrai_colonna_matrice(C,N,T,j)\n",
    "            \n",
    "            #3)implemento la sommatoria su j\n",
    "            \n",
    "            prod1 = np.multiply(w_j,x_j) #fa il prodotto componente per componente e restituisce un vettore\n",
    "            prod2  = np.dot(phi,prod1) #questo dovrebbe essere un vettore\n",
    "            elem = elem + A[i][j]*np.tanh(alpha*prod2[s]) #singolo elemento della sommatoria(NB: devo prendere la componente s di prod2)\n",
    "            j = j+1 #scorro su un altro nodo (sempre diverso da i)\n",
    "            \n",
    "        else:\n",
    "            elem = elem + 0\n",
    "            j=j+1\n",
    "    # ho ottenuto ora il valore della sommatoria su j\n",
    "            \n",
    "            \n",
    "    \n",
    "    #4) Moltiplico per K \n",
    "    valore_finale_variazione_componente = K * elem\n",
    "    #print(\"valore variazione componente\",s,\"del vettore\",i,\":\",valore_finale_variazione_componente )\n",
    "    \n",
    "    #5) sommo il valore dell' elemento trovato alla componente s del vettore caratteristica del nodo i (differenza), ovvero l' elemento \n",
    "    # [s][i]  della matrice delle caratteristiche:\n",
    "    \n",
    "    \n",
    "    valore_finale_variazione_componente = valore_finale_variazione_componente - C[s][i] # ho così ottenuto il valore della parte destra dell' equazione 1 per la componente s(fissata) del vettore opinione del nodo i(fissato)\n",
    "    \n",
    "   \n",
    "    \n",
    "    return  valore_finale_variazione_componente\n",
    "    \n",
    "\n",
    "\n",
    "#////////////////////////////////////////////////////////////////////////////////////////////////////\n",
    "# LANCIO DI PROVA\n",
    "\n",
    "print(\"\\n\")\n",
    "print(\"LANCIO DI PROVA DELLA FUNZIONE:\\n\")       \n",
    "delta_x_s = 0\n",
    "i = 1\n",
    "s = 1\n",
    "delta_x_s = float(dinamica_variabile_opinione(A, alpha, K, C,W,phi,i,s))\n",
    "print(\"tipo output:\",type(delta_x_s))\n",
    "print(\"[valore finale elemento elemento di C (s, i ) :=\",\"(\",s,\",\",i,\")]\",\"=\",delta_x_s)\n",
    "print(\"\\n\")\n",
    "\n",
    "print(\"*\\\\\\\\\\\\\\\\\\\\\\\\\\\\\\\\\\\\\\\\\\\\\\\\\\\\\\\\\\\\\\\\\\\\\\\\\\\\\\\\\\\\\\\\\\\\\\\\\\\\\\\\\\\\\\\\\\\\\\\\\\\\\\\\*\")\n",
    "print(\"\\n\")\n",
    "print(\"MODIFICA MATRICE DELLE CARATTERISTICHE\")\n",
    "\n",
    "\n",
    "C = modifica_matrice_caratteristiche(C,s,i,delta_x_s)\n",
    "print(\"matrice delle caratteristiche modificata:\\n\",C)"
   ]
  },
  {
   "cell_type": "markdown",
   "id": "7afbadf5",
   "metadata": {},
   "source": [
    "3_IMPLEMENTAZIONE CHIAMATA EQ DIFFERENZIALE"
   ]
  },
  {
   "cell_type": "markdown",
   "id": "bf4be307",
   "metadata": {},
   "source": [
    "3a_PROVO A RICAVARE UNA SOLA COMPONENTE DI UN SINGOLO VETTORE A TUTTI I TEMPI"
   ]
  },
  {
   "cell_type": "code",
   "execution_count": 6,
   "id": "f204d8f9",
   "metadata": {},
   "outputs": [],
   "source": [
    "#questa da non guardare!!!!!!!!!!!!"
   ]
  },
  {
   "cell_type": "code",
   "execution_count": 7,
   "id": "7fc4bba7",
   "metadata": {},
   "outputs": [],
   "source": [
    "#s = componente del vettore = fissata\n",
    "#t = array di valori = variabile\n",
    "#i = nodo = vettore opinione = fissato"
   ]
  },
  {
   "cell_type": "code",
   "execution_count": 8,
   "id": "b5f0af32",
   "metadata": {},
   "outputs": [],
   "source": [
    "#parametri da passare alla funzione:\n",
    "#alpha = 0.5 #costante\n",
    "#K = 2 #costante\n",
    "#A = np.array([[1,1,1],[1,0,0],[1,0,1]]) #matrice adiacenza ->costante\n",
    "#W=np.array([[0.1,0.5,0.4],[0.3,0.5,0.2]]) #costante\n",
    "#C=np.array([[1,0,1],[2,1,1]],dtype = float)  #NB: i valori delle caratteristiche sono float!!!! ->costante\n",
    "#phi = [[1, 0.2], [0.2, 1]] #->costante\n",
    "#i = 1 #-> costante, nodo che sto considerando\n",
    "#s=1 #-> costante, componente del vettore opinione del nodo i che sta variando\n",
    "#t_0 = 0 #tempi di integrazione\n",
    "#t_f = 10\n",
    "#t_nsamples = 100\n",
    "#t_space = np.linspace(t_0,t_f,t_nsamples) #tempo è variabile\n",
    "#x_0 = 0 #punto iniziale -> costante\n",
    "#method = 'RK45'  #metodo soluzione usato per approssimare eq differenziale\n",
    "#variabile in output: valore_finale_variazione_componente (componente s del vettore opinione del nodo i, la funzione dovrebbe sputare il suo valore a ciascun tempo dell' array t_space)"
   ]
  },
  {
   "cell_type": "code",
   "execution_count": 9,
   "id": "d8505372",
   "metadata": {},
   "outputs": [],
   "source": [
    "#Chiamata della funzione: lambda vuole 2 input e la devo usare perchè se no non prende la funzione.Ora chiaramente le variabili sono t e il \n",
    "#vettore opinione x. Io qui avevo messo x , che però non è direttamente presente all' interno della funzione. Cosa ci devo mettere al suo posto?\n",
    "\n",
    "\n",
    "#ho pensato di metterci x_j che è l' analogo del vettore x presente nella funzione,va bene?? DA FAR VEDERE??????\n",
    "#ode_fn = lambda t,x_j: dinamica_variabile_opinione(A, alpha, K, C,W,phi,i,s,t) #va bene con lambda mettere t e x_j???"
   ]
  },
  {
   "cell_type": "code",
   "execution_count": 10,
   "id": "6e380131",
   "metadata": {},
   "outputs": [],
   "source": [
    "#num_sol = solve_ivp(ode_fn,[t_0,t_f],[x_0],method = method, dense_output = True) #chiaramente da sempre lo stesso valore perchè qui A e C non variano nel tempo, ma nel file finale varieranno\n",
    "#print(num_sol)\n",
    "#T = num_sol.t\n",
    "#print(\"tempi a cui integro:\\n\",T)\n",
    "#Y = num_sol.y\n",
    "#print(\"array i cui elementi sono il valore della componente s del vettore opinione del nodo i per tutti i tempi dell' array t_space:\\n\")\n",
    "#print(Y)\n",
    "#print(\"dimensioni di Y:\",np.shape(Y))\n"
   ]
  },
  {
   "cell_type": "markdown",
   "id": "8d420ef2",
   "metadata": {},
   "source": [
    "3b)CHIAMATA DELLA FUNZIONE 1: OCCORRE ORA CALCOLARE TUTTE LE COMPONENTI DEI VETTORI OPINIONE DI TUTTI I NODI, A TEMPO FISSATO (MATRICE DELLE CARATTERISTICHE C A TEMPO FISSATO)"
   ]
  },
  {
   "cell_type": "code",
   "execution_count": 11,
   "id": "da57fd63",
   "metadata": {},
   "outputs": [],
   "source": [
    "#s =  variabile = tutte le componenti del vettore da 1 a T\n",
    "#t = fissato , non incide nella funzione\n",
    "#i = nodo = vettore opinione = variabile da 1 a N (nodi)"
   ]
  },
  {
   "cell_type": "code",
   "execution_count": 12,
   "id": "a157b202",
   "metadata": {},
   "outputs": [],
   "source": [
    "#parametri da passare alla funzione:\n",
    "alpha = 0.5 #costante\n",
    "K = 2 #costante\n",
    "A = np.array([[1,1,1],[1,0,0],[1,0,1]]) #matrice adiacenza ->costante\n",
    "W=np.array([[0.1,0.5,0.4],[0.3,0.5,0.2]]) #costante\n",
    "C=np.array([[1,0,1],[2,1,1]],dtype = float)  #NB: i valori delle caratteristiche sono float!!!! ->costante\n",
    "N = int(C.shape[1]) #nodi\n",
    "T = int(C.shape[0]) #topic\n",
    "phi = [[1, 0.2], [0.2, 1]] #->costante\n",
    "i = 1 #-> variabile, nodo che sto considerando\n",
    "s=1 #-> variabile, componente del vettore opinione del nodo i che sta variando\n",
    "t_0 = 0 #tempi di integrazione\n",
    "t_f = 10\n",
    "t_nsamples = 100\n",
    "t_space = np.linspace(t_0,t_f,t_nsamples) #tempo è variabile, ma qui non incide nella funzione(costante)\n",
    "x_0 = 0 #punto iniziale -> costante\n",
    "method = 'RK45'  #metodo soluzione usato per approssimare eq differenziale\n"
   ]
  },
  {
   "cell_type": "code",
   "execution_count": 13,
   "id": "05c0db8c",
   "metadata": {},
   "outputs": [
    {
     "name": "stdout",
     "output_type": "stream",
     "text": [
      "matrice delle caratteristiche a t = 0 fissato:\n",
      " [[-0.46704713  0.21911694 -0.78088306]\n",
      " [-1.23197778 -0.39912581 -0.39912581]]\n"
     ]
    }
   ],
   "source": [
    "#funzione che calcola la matrice delle caratteristiche  di tutti i nodi (matrice di tutti i vettori (x_i)^s al variare di s)\n",
    "# a tempo fissato per tutte le caratteristiche.\n",
    "\n",
    "def vettore_opinione_evoluto(A, alpha, K, C,W,phi):\n",
    "    \n",
    "    #1)DEFINIZIONE VARIABILI\n",
    "    # t è costante\n",
    "    #C in input è costante\n",
    "    #i e s variano\n",
    "    s=0 \n",
    "    i=0\n",
    "    N = int(C.shape[1])\n",
    "    T = int(C.shape[0])\n",
    "    D = np.zeros((T,N)) # matrice \n",
    "    \n",
    "    #2)CICLO INCUI RICHIAMO LA FUNZIONE DINAMICA_VARIABILE_OPINIONE PER CALCOLARE I SINGOLI ELEMENTI DI MATRICE\n",
    "    for s in range(T):\n",
    "        for i in range(N):\n",
    "            delta_i_s =  dinamica_variabile_opinione(A, alpha, K, C,W,phi,i,s)\n",
    "            D[s][i] =  delta_i_s \n",
    "            \n",
    "        \n",
    "    return D\n",
    "\n",
    "D = np.zeros((T,N))\n",
    "D = vettore_opinione_evoluto(A, alpha, K, C,W,phi)\n",
    "print(\"matrice delle caratteristiche a t = 0 fissato:\\n\",D)"
   ]
  },
  {
   "cell_type": "code",
   "execution_count": 14,
   "id": "2e597238",
   "metadata": {},
   "outputs": [],
   "source": [
    "#FINO QUI OK!"
   ]
  },
  {
   "cell_type": "markdown",
   "id": "d55a0f88",
   "metadata": {},
   "source": [
    "3c) CHIAMATA DELLA FUNZIONE 2:FUNZIONE CHE MI CALCOLA LA MATRICE DELLE CARATTERISTICHE PER TUTTI I NODI A TUTTI I TEMPI"
   ]
  },
  {
   "cell_type": "code",
   "execution_count": 15,
   "id": "90bef83f",
   "metadata": {},
   "outputs": [],
   "source": [
    "#serie di funzioni che calcola la matrice delle caratteristiche  di tutti i nodi (matrice di tutti i vettori (x_i)^s al variare di s)\n",
    "# a tutti i tempi per tutte le caratteristiche. L' output sarà un vettore di matrici (TxN) di t componenti."
   ]
  },
  {
   "cell_type": "code",
   "execution_count": 16,
   "id": "0635765b",
   "metadata": {},
   "outputs": [],
   "source": [
    "#s = array di valori = variabile = tutte le componenti del vettore da 0 a T\n",
    "#t = array di valori = variabile\n",
    "#i = nodo = vettore opinione = variabile da 1 a N (nodi)"
   ]
  },
  {
   "cell_type": "code",
   "execution_count": 17,
   "id": "b1a36af0",
   "metadata": {},
   "outputs": [],
   "source": [
    "#parametri da passare alla funzione:\n",
    "alpha = 0.5 #costante\n",
    "K = 2 #costante\n",
    "A = np.array([[0,1,0],[1,0,1],[0,1,0]]) #matrice adiacenza ->costante  #NB: [0,1,0]... sono le righe\n",
    "W=np.array([[0.1,0.5,0.4],[0.3,0.5,0.2]]) #costante\n",
    "C=np.array([[1,0,1],[2,1,1]],dtype = float)  #NB: i valori delle caratteristiche sono float!!!! ->costante\n",
    "N = int(C.shape[1]) #nodi\n",
    "T = int(C.shape[0]) #topic\n",
    "phi = [[1, 0.2], [0.2, 1]] #->costante\n",
    "i = 1 #-> variabile, nodo che sto considerando\n",
    "s=1 #-> variabile, componente del vettore opinione del nodo i che sta variando\n",
    "t_0 = 0 #tempi di integrazione\n",
    "t_f = 10\n",
    "t_nsamples = 10\n",
    "t_space = np.linspace(t_0,t_f,t_nsamples) #tempo è variabile\n",
    "max_step = (t_f - t_0)/t_nsamples\n",
    "x_0 = 0 #punto iniziale -> costante\n",
    "method = 'RK45'  #metodo soluzione usato per approssimare eq differenziale\n",
    "\n",
    "\n",
    "D_0 = np.ones((T,N)) #condizioni iniziali (matrice delle caratteristiche iniziali)\n",
    "t=0 #variabile tempo: sarà solo formale negli input delle funzioni , ma varierà implicitamente variando la matrice delle caratteristiche C ad ogni step\n",
    "h = 1 #step per il metodo runge_kutta\n"
   ]
  },
  {
   "cell_type": "code",
   "execution_count": 18,
   "id": "b21af5cf",
   "metadata": {},
   "outputs": [],
   "source": [
    "#///////////////////////////////////////////////////////////////////////////////////////////////////////////////////////////"
   ]
  },
  {
   "cell_type": "code",
   "execution_count": 19,
   "id": "bb038948",
   "metadata": {},
   "outputs": [
    {
     "data": {
      "text/plain": [
       "'\\n#prova chiamata metodo runge_kutta per singolo step temporale: quella sotto è quella implementata da me per normali funzioni, da modificare per il mio caso\\n\\n\\ndef Runge_Kutta_4_order(dy,h,x_0,y_0,output,n,f):\\n    #dy = eq differenziale\\n    #h = incremento\\n    #x_0,y_0 = valori iniziali delle variabili\\n    #output = se vale 1 la funzione restituisce x_plot,se vale 2 la funzione restituisce y_RK_4(lista di valori che approssimano la soluzione dell\\' eq differenziale con Runge Kutta), se vale 3 la funzione restituisce y_analytical (lista di valori di y calcolati con la funzione che risolve analiticamente l\\' eq differenziale sui valori di x scelti.(serve solo per verifica,si può omettere se non si conosce la soluzione))\\n    #x_plot = lista di valori della variabile x su cui approssimo la soluzione dell eq differenziale con Runge Kutta(scelta da me)\\n    # n = numero di iterazioni metodo Runge Kutta\\n    #f = funzione che risolve analiticamente l\\' eq differenziale (serve solo come verifica della funzione soluzione dell\\' eq differenziale ottenuta con Runge Kutta, y_RK_4)\\n    x_plot = []\\n    y_RK4 = [] # lista di valori di y corrispondenti ai valori di x scelti, calcolati con la funzione ricavata con metodo Runge Kutta (approssimati, NB:non è una funzione ma una lista di valori)\\n    y_analytical = [] #lista di valori di y corrispondenti ai valori di y scelti, calcolati con la funzione che risolve analiticamente l\\' eq differenziale(serve solo per confronto, di norma non la conosco.Non serve per metodo ma per verifica) NB:calcolati applicando la funzione ai valori di x\\n    \\n    x = x_0\\n    y = y_0 #valori iniziali\\n    #RK4 Method\\n    for i in range(1,n+1):\\n        x_plot.append(x)\\n        y_RK4.append(y)\\n        #y_analytical.append(f(x))\\n        #calculate derivate approximation\\n        k_1 = dy(x,y)\\n        k_2 = dy(x + h/2 , y + k_1 * h/2)\\n        k_3 = dy(x + h/2 , y + k_2 * h/2)\\n        k_4 = dy(x + h , y + k_3 * h)\\n        #calculate new y estimation\\n        y = y + 1/6 * ( k_1 + 2 * k_2 + 2 * k_3 + k_4) * h\\n        #increase x by stepsize to calculate new y estimate\\n        x = x + h\\n        #print(\\'x=%f \\t y=%f \\t f(x)=%f\\'%(x,y,f(x)) )\\n    if(output == 1):\\n        print(\"x_plot:\")\\n        return x_plot\\n    if(output == 2):\\n        print(\"y_RK4:\")\\n        return y_RK4\\n    if(output == 3):\\n        print(\"y_analytical:\")\\n        return y_analytical\\n\\n'"
      ]
     },
     "execution_count": 19,
     "metadata": {},
     "output_type": "execute_result"
    }
   ],
   "source": [
    "\"\"\"\n",
    "#prova chiamata metodo runge_kutta per singolo step temporale: quella sotto è quella implementata da me per normali funzioni, da modificare per il mio caso\n",
    "\n",
    "\n",
    "def Runge_Kutta_4_order(dy,h,x_0,y_0,output,n,f):\n",
    "    #dy = eq differenziale\n",
    "    #h = incremento\n",
    "    #x_0,y_0 = valori iniziali delle variabili\n",
    "    #output = se vale 1 la funzione restituisce x_plot,se vale 2 la funzione restituisce y_RK_4(lista di valori che approssimano la soluzione dell' eq differenziale con Runge Kutta), se vale 3 la funzione restituisce y_analytical (lista di valori di y calcolati con la funzione che risolve analiticamente l' eq differenziale sui valori di x scelti.(serve solo per verifica,si può omettere se non si conosce la soluzione))\n",
    "    #x_plot = lista di valori della variabile x su cui approssimo la soluzione dell eq differenziale con Runge Kutta(scelta da me)\n",
    "    # n = numero di iterazioni metodo Runge Kutta\n",
    "    #f = funzione che risolve analiticamente l' eq differenziale (serve solo come verifica della funzione soluzione dell' eq differenziale ottenuta con Runge Kutta, y_RK_4)\n",
    "    x_plot = []\n",
    "    y_RK4 = [] # lista di valori di y corrispondenti ai valori di x scelti, calcolati con la funzione ricavata con metodo Runge Kutta (approssimati, NB:non è una funzione ma una lista di valori)\n",
    "    y_analytical = [] #lista di valori di y corrispondenti ai valori di y scelti, calcolati con la funzione che risolve analiticamente l' eq differenziale(serve solo per confronto, di norma non la conosco.Non serve per metodo ma per verifica) NB:calcolati applicando la funzione ai valori di x\n",
    "    \n",
    "    x = x_0\n",
    "    y = y_0 #valori iniziali\n",
    "    #RK4 Method\n",
    "    for i in range(1,n+1):\n",
    "        x_plot.append(x)\n",
    "        y_RK4.append(y)\n",
    "        #y_analytical.append(f(x))\n",
    "        #calculate derivate approximation\n",
    "        k_1 = dy(x,y)\n",
    "        k_2 = dy(x + h/2 , y + k_1 * h/2)\n",
    "        k_3 = dy(x + h/2 , y + k_2 * h/2)\n",
    "        k_4 = dy(x + h , y + k_3 * h)\n",
    "        #calculate new y estimation\n",
    "        y = y + 1/6 * ( k_1 + 2 * k_2 + 2 * k_3 + k_4) * h\n",
    "        #increase x by stepsize to calculate new y estimate\n",
    "        x = x + h\n",
    "        #print('x=%f \\t y=%f \\t f(x)=%f'%(x,y,f(x)) )\n",
    "    if(output == 1):\n",
    "        print(\"x_plot:\")\n",
    "        return x_plot\n",
    "    if(output == 2):\n",
    "        print(\"y_RK4:\")\n",
    "        return y_RK4\n",
    "    if(output == 3):\n",
    "        print(\"y_analytical:\")\n",
    "        return y_analytical\n",
    "\n",
    "\"\"\"\n",
    "\n",
    "#prima di provare a riscrivere la funzione per il metodo Runge-Kutta occorre definire delle funzioni preliminari:\n",
    "#1)dy = richiama la funzione vettore_opinione_evoluto, ma per singolo step temporale.Il tempo (non esplicito) varierà cambiando C\n",
    "#  è una funzione che serve per richiamare vettore_opinione_evoluto a tempo singolo, potendo variare gli input t e C\n",
    "#2) RK4_step = calcola la matrice delle caratteristiche con il metodo Runge Kutta dopo 1 singolo step temporale\n",
    "#3) integrate = richiama la funzioneRK4_step a tutti i tempi, variando la matrice C in input a ogni step(e quindi implicitamente il tempo)\n",
    "\n",
    "\n",
    "#NB: alla fine se andranno bene puoi toglierle da qui e metterle nel file funzioni_utili.py"
   ]
  },
  {
   "cell_type": "markdown",
   "id": "92b6f01e",
   "metadata": {},
   "source": [
    "3c_a) FUNZIONE dy"
   ]
  },
  {
   "cell_type": "code",
   "execution_count": 20,
   "id": "db344d36",
   "metadata": {},
   "outputs": [
    {
     "name": "stdout",
     "output_type": "stream",
     "text": [
      "matrice caratteristiche:\n",
      " [[-0.90008325  0.65215306 -0.90008325]\n",
      " [-1.51016268 -0.12094091 -0.51016268]]\n"
     ]
    }
   ],
   "source": [
    "\n",
    "def dy(A,alpha,K,C,W,phi,t):\n",
    "    \n",
    "    #a)dimensioni\n",
    "    N = int(C.shape[1])\n",
    "    T = int(C.shape[0])\n",
    "    \n",
    "    #b) introduco matrice di zeri per output finale\n",
    "    dC = np.zeros((T,N))\n",
    "    \n",
    "    #c) richiamo la funzione vettore_opinione_evoluto per riempire la matrice\n",
    "    dC=vettore_opinione_evoluto(A,alpha,K,C,W,phi)\n",
    "    \n",
    "    return dC\n",
    "\n",
    "#prova\n",
    "\n",
    "dC = dy(A,alpha,K,C,W,phi,t)\n",
    "print(\"matrice caratteristiche:\\n\",dC)"
   ]
  },
  {
   "cell_type": "markdown",
   "id": "d833177e",
   "metadata": {},
   "source": [
    "3c_b) FUNZIONE RK4_STEP"
   ]
  },
  {
   "cell_type": "code",
   "execution_count": 21,
   "id": "5ff93b84",
   "metadata": {},
   "outputs": [
    {
     "name": "stdout",
     "output_type": "stream",
     "text": [
      "C_new:\n",
      " [[-0.33610482 -0.33437109 -0.33610482]\n",
      " [-0.33586008 -0.33349688 -0.33586008]]\n"
     ]
    }
   ],
   "source": [
    "\n",
    "#NB: C_0 è la matrice delle caratteristiche iniziale, al primo step coinciderà con D_0, ai successivi ovviamente no.\n",
    "def RK4_step(dy,C_0,A,phi,alpha,h,K,W):\n",
    "    \n",
    "    #a)dimensioni\n",
    "    N = int(C.shape[1])\n",
    "    T = int(C.shape[0])\n",
    "    \n",
    "    #a1) inizializzo matrici e variabili\n",
    "    \n",
    "    t=0 #definisco t poichè qui dovrà variare\n",
    "    C_new = np.zeros((T,N))\n",
    "    \n",
    "    \n",
    "    #b)definisco i vari passi del metodo Runge Kutta\n",
    "    \n",
    "    k_1 = dy(A,alpha,K,C_0,W,phi,t)\n",
    "    k_2 = dy(A,alpha,K,C_0 + (h/2)*k_1,W,phi,t+h/2)\n",
    "    k_3 = dy(A,alpha,K,C_0 + (h/2)*k_2,W,phi,t+h/2)\n",
    "    k_4 = dy(A,alpha,K,C_0 + h*k_3,W,phi,t+h)\n",
    "    \n",
    "    #c) calcolo la nuova matrice delle caratteristeiche al tempo t+1\n",
    "    C_new = h/6 *(k_1 + 2*k_2 + 2*k_3 + k_4)\n",
    "    \n",
    "    return C_new\n",
    "\n",
    "\n",
    "C_new = np.zeros((T,N))\n",
    "C_new = RK4_step(dy,D_0,A,phi,alpha,h,K,W)\n",
    "print(\"C_new:\\n\",C_new)"
   ]
  },
  {
   "cell_type": "markdown",
   "id": "3b5c2eda",
   "metadata": {},
   "source": [
    "3c_c) FUNZIONE INTEGRATE"
   ]
  },
  {
   "cell_type": "code",
   "execution_count": 22,
   "id": "9c1e6369",
   "metadata": {},
   "outputs": [
    {
     "name": "stdout",
     "output_type": "stream",
     "text": [
      "matrice caratteristiche tutti tempi:\n",
      " [[[ 1.00000000e+00  1.00000000e+00  1.00000000e+00]\n",
      "  [ 1.00000000e+00  1.00000000e+00  1.00000000e+00]]\n",
      "\n",
      " [[-3.36104822e-01 -3.34371085e-01 -3.36104822e-01]\n",
      "  [-3.35860078e-01 -3.33496879e-01 -3.35860078e-01]]\n",
      "\n",
      " [[ 1.11413893e-01  1.10078567e-01  1.11413893e-01]\n",
      "  [ 1.11376678e-01  1.09565929e-01  1.11376678e-01]]\n",
      "\n",
      " [[-3.70162441e-02 -3.60366518e-02 -3.70162441e-02]\n",
      "  [-3.70624458e-02 -3.57409926e-02 -3.70624458e-02]]\n",
      "\n",
      " [[ 1.24053962e-02  1.16884908e-02  1.24053962e-02]\n",
      "  [ 1.24717797e-02  1.15096387e-02  1.24717797e-02]]\n",
      "\n",
      " [[-4.23636947e-03 -3.71179988e-03 -4.23636947e-03]\n",
      "  [-4.29897928e-03 -3.59850930e-03 -4.29897928e-03]]\n",
      "\n",
      " [[ 1.50329716e-03  1.11948635e-03  1.50329716e-03]\n",
      "  [ 1.55496249e-03  1.04498416e-03  1.55496249e-03]]\n",
      "\n",
      " [[-5.73328750e-04 -2.92522346e-04 -5.73328750e-04]\n",
      "  [-6.13431482e-04 -2.42129323e-04 -6.13431482e-04]]\n",
      "\n",
      " [[ 2.45720747e-04  4.02863374e-05  2.45720747e-04]\n",
      "  [ 2.75857139e-04  5.51314076e-06  2.75857139e-04]]\n",
      "\n",
      " [[-1.22416842e-04  2.78683797e-05 -1.22416842e-04]\n",
      "  [-1.44650911e-04  5.21917938e-05 -1.44650911e-04]]]\n",
      "elemento di matrice C_t[1]:\n",
      " [[-0.33610482 -0.33437109 -0.33610482]\n",
      " [-0.33586008 -0.33349688 -0.33586008]]\n",
      "elemento di matrice C_t[1][0]:\n",
      " [-0.33610482 -0.33437109 -0.33610482]\n",
      "elemento di matrice C_t[1][0][1]:\n",
      " -0.3343710850029399\n"
     ]
    }
   ],
   "source": [
    "\n",
    "def integrate(dy,C_0,A,phi,alpha,h,K,W,n_time):\n",
    "    \n",
    "    #a) dimensioni\n",
    "    N = int(C_0.shape[1])\n",
    "    T =int(C_0.shape[0])\n",
    "    \n",
    "    #b)introduco allocazione di memoria per output: vettore di n_time componenti composto da matrici TxN\n",
    "    C_t = np.zeros((n_time,T,N))\n",
    "    C_t[0]=C_0  #inizializzo\n",
    "    \n",
    "    #c)ciclo che richiama il metodo Runge Kutta a 1 singolo step temporale, per n_time volte, aggiornando ad ogni step la matrice C in input\n",
    "    \n",
    "    i=0\n",
    "    \n",
    "    for i in range(1,n_time):\n",
    "        \n",
    "        C_new = RK4_step(dy,C_0,A,phi,alpha,h,K,W) #richiama Runge Kutta al singolo step temporale\n",
    "        C_t[i] = C_new #salva il risultato come componente del vettore in output\n",
    "        C_0 = C_new #aggiorna la matrice delle caratteristiche in input ad ogni iterazione temporale con quella ottenuta nello step precedente\n",
    "        \n",
    "    return C_t\n",
    "\n",
    "n_time=10\n",
    "C_t = np.zeros((n_time,T,N))\n",
    "D_0 = np.ones((T,N)) #condizioni iniziali (matrice delle caratteristiche iniziali)\n",
    "\n",
    "C_t = integrate(dy,D_0,A,phi,alpha,h,K,W,t_nsamples)\n",
    "print(\"matrice caratteristiche tutti tempi:\\n\",C_t)\n",
    "print(\"elemento di matrice C_t[1]:\\n\",C_t[1])\n",
    "print(\"elemento di matrice C_t[1][0]:\\n\",C_t[1][0])\n",
    "print(\"elemento di matrice C_t[1][0][1]:\\n\",C_t[1][0][1])\n",
    "\n",
    "#NB: ok ma i valori :\n",
    "# C[t][i][j] = C[t][i][j+1] (provato a cambiare matrici iniziali e vengono diversi)"
   ]
  },
  {
   "cell_type": "code",
   "execution_count": null,
   "id": "4c48cf20",
   "metadata": {},
   "outputs": [],
   "source": []
  },
  {
   "cell_type": "code",
   "execution_count": null,
   "id": "490c1a12",
   "metadata": {},
   "outputs": [],
   "source": []
  }
 ],
 "metadata": {
  "kernelspec": {
   "display_name": "Python 3 (ipykernel)",
   "language": "python",
   "name": "python3"
  },
  "language_info": {
   "codemirror_mode": {
    "name": "ipython",
    "version": 3
   },
   "file_extension": ".py",
   "mimetype": "text/x-python",
   "name": "python",
   "nbconvert_exporter": "python",
   "pygments_lexer": "ipython3",
   "version": "3.11.4"
  }
 },
 "nbformat": 4,
 "nbformat_minor": 5
}
